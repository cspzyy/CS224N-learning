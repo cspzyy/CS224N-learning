{
 "cells": [
  {
   "cell_type": "code",
   "execution_count": 8,
   "id": "ff1ae77b",
   "metadata": {},
   "outputs": [
    {
     "name": "stdout",
     "output_type": "stream",
     "text": [
      "[[0, 1, 2, 3], [3, 4, 5, 6], [6, 7, 8, 9]]\n",
      "0\n",
      "1\n",
      "2\n",
      "3\n"
     ]
    }
   ],
   "source": [
    "# 使用列表推导式创建二维列表\n",
    "rows = 3\n",
    "cols = 4\n",
    "my_2d_list = [[col * rows + row for row in range(cols)] for col in range(rows)]\n",
    "linear = [0,1,2,3]\n",
    "\n",
    "# 访问二维列表中的元素\n",
    "print(my_2d_list)  # 输出: 2\n",
    "for c in range(4):\n",
    "    print(c)"
   ]
  },
  {
   "cell_type": "code",
   "execution_count": null,
   "id": "c1eb34c7",
   "metadata": {},
   "outputs": [],
   "source": []
  }
 ],
 "metadata": {
  "kernelspec": {
   "display_name": "Python 3 (ipykernel)",
   "language": "python",
   "name": "python3"
  },
  "language_info": {
   "codemirror_mode": {
    "name": "ipython",
    "version": 3
   },
   "file_extension": ".py",
   "mimetype": "text/x-python",
   "name": "python",
   "nbconvert_exporter": "python",
   "pygments_lexer": "ipython3",
   "version": "3.11.5"
  }
 },
 "nbformat": 4,
 "nbformat_minor": 5
}
