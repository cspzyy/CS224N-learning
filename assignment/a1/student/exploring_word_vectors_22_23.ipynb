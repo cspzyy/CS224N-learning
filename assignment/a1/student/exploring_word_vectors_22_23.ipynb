{
 "cells": [
  {
   "cell_type": "markdown",
   "metadata": {
    "id": "3HqK14JLSStR"
   },
   "source": [
    "# CS224N Assignment 1: Exploring Word Vectors (25 Points)\n",
    "### <font color='blue'> Due 4:30pm, Tue Jan 17 </font>\n",
    "\n",
    "Welcome to CS224N! \n",
    "\n",
    "Before you start, make sure you read the README.txt in the same directory as this notebook for important setup information. A lot of code is provided in this notebook, and we highly encourage you to read and understand it as part of the learning :)\n",
    "\n",
    "If you aren't super familiar with Python, Numpy, or Matplotlib, we recommend you check out the review session on Friday. The session will be recorded and the material will be made available on our [website](http://web.stanford.edu/class/cs224n/index.html#schedule). The CS231N Python/Numpy [tutorial](https://cs231n.github.io/python-numpy-tutorial/) is also a great resource.\n",
    "\n",
    "\n",
    "**Assignment Notes:** Please make sure to save the notebook as you go along. Submission Instructions are located at the bottom of the notebook."
   ]
  },
  {
   "cell_type": "code",
   "execution_count": 1,
   "metadata": {
    "id": "8AGQxROrSStf"
   },
   "outputs": [
    {
     "name": "stderr",
     "output_type": "stream",
     "text": [
      "[nltk_data] Downloading package reuters to\n",
      "[nltk_data]     C:\\Users\\ASUS\\AppData\\Roaming\\nltk_data...\n",
      "[nltk_data]   Package reuters is already up-to-date!\n"
     ]
    }
   ],
   "source": [
    "# All Import Statements Defined Here\n",
    "# Note: Do not add to this list.\n",
    "# ----------------\n",
    "\n",
    "import sys\n",
    "assert sys.version_info[0]==3\n",
    "assert sys.version_info[1] >= 5\n",
    "\n",
    "from platform import python_version\n",
    "assert int(python_version().split(\".\")[1]) >= 5, \"Please upgrade your Python version following the instructions in \\\n",
    "    the README.txt file found in the same directory as this notebook. Your Python version is \" + python_version()\n",
    "\n",
    "from gensim.models import KeyedVectors\n",
    "from gensim.test.utils import datapath\n",
    "import pprint\n",
    "import matplotlib.pyplot as plt\n",
    "plt.rcParams['figure.figsize'] = [10, 5]\n",
    "\n",
    "import nltk\n",
    "nltk.download('reuters') #to specify download location, optionally add the argument: download_dir='/specify/desired/path/'\n",
    "from nltk.corpus import reuters\n",
    "\n",
    "import numpy as np\n",
    "import random\n",
    "import scipy as sp\n",
    "from sklearn.decomposition import TruncatedSVD\n",
    "from sklearn.decomposition import PCA\n",
    "\n",
    "START_TOKEN = '<START>'\n",
    "END_TOKEN = '<END>'\n",
    "\n",
    "np.random.seed(0)\n",
    "random.seed(0)\n",
    "# ----------------"
   ]
  },
  {
   "cell_type": "markdown",
   "metadata": {
    "id": "SICd5IedSSto"
   },
   "source": [
    "## Word Vectors\n",
    "\n",
    "Word Vectors are often used as a fundamental component for downstream NLP tasks, e.g. question answering, text generation, translation, etc., so it is important to build some intuitions as to their strengths and weaknesses. Here, you will explore two types of word vectors: those derived from *co-occurrence matrices*, and those derived via *GloVe*. \n",
    "\n",
    "**Note on Terminology:** The terms \"word vectors\" and \"word embeddings\" are often used interchangeably. The term \"embedding\" refers to the fact that we are encoding aspects of a word's meaning in a lower dimensional space. As [Wikipedia](https://en.wikipedia.org/wiki/Word_embedding) states, \"*conceptually it involves a mathematical embedding from a space with one dimension per word to a continuous vector space with a much lower dimension*\"."
   ]
  },
  {
   "cell_type": "markdown",
   "metadata": {
    "id": "6Eug6AVrSStr"
   },
   "source": [
    "## Part 1: Count-Based Word Vectors (10 points)\n",
    "\n",
    "Most word vector models start from the following idea:\n",
    "\n",
    "*You shall know a word by the company it keeps ([Firth, J. R. 1957:11](https://en.wikipedia.org/wiki/John_Rupert_Firth))*\n",
    "\n",
    "Many word vector implementations are driven by the idea that similar words, i.e., (near) synonyms, will be used in similar contexts. As a result, similar words will often be spoken or written along with a shared subset of words, i.e., contexts. By examining these contexts, we can try to develop embeddings for our words. With this intuition in mind, many \"old school\" approaches to constructing word vectors relied on word counts. Here we elaborate upon one of those strategies, *co-occurrence matrices* (for more information, see [here](https://web.stanford.edu/~jurafsky/slp3/6.pdf) or [here](https://medium.com/data-science-group-iitr/word-embedding-2d05d270b285))."
   ]
  },
  {
   "cell_type": "markdown",
   "metadata": {
    "id": "L6uQ9-DVSSts"
   },
   "source": [
    "### Co-Occurrence\n",
    "\n",
    "A co-occurrence matrix counts how often things co-occur in some environment. Given some word $w_i$ occurring in the document, we consider the *context window* surrounding $w_i$. Supposing our fixed window size is $n$, then this is the $n$ preceding and $n$ subsequent words in that document, i.e. words $w_{i-n} \\dots w_{i-1}$ and $w_{i+1} \\dots w_{i+n}$. We build a *co-occurrence matrix* $M$, which is a symmetric word-by-word matrix in which $M_{ij}$ is the number of times $w_j$ appears inside $w_i$'s window among all documents.\n",
    "\n",
    "**Example: Co-Occurrence with Fixed Window of n=1**:\n",
    "\n",
    "Document 1: \"all that glitters is not gold\"\n",
    "\n",
    "Document 2: \"all is well that ends well\"\n",
    "\n",
    "\n",
    "|     *    | `<START>` | all | that | glitters | is   | not  | gold  | well | ends | `<END>` |\n",
    "|----------|-------|-----|------|----------|------|------|-------|------|------|-----|\n",
    "| `<START>`    | 0     | 2   | 0    | 0        | 0    | 0    | 0     | 0    | 0    | 0   |\n",
    "| all      | 2     | 0   | 1    | 0        | 1    | 0    | 0     | 0    | 0    | 0   |\n",
    "| that     | 0     | 1   | 0    | 1        | 0    | 0    | 0     | 1    | 1    | 0   |\n",
    "| glitters | 0     | 0   | 1    | 0        | 1    | 0    | 0     | 0    | 0    | 0   |\n",
    "| is       | 0     | 1   | 0    | 1        | 0    | 1    | 0     | 1    | 0    | 0   |\n",
    "| not      | 0     | 0   | 0    | 0        | 1    | 0    | 1     | 0    | 0    | 0   |\n",
    "| gold     | 0     | 0   | 0    | 0        | 0    | 1    | 0     | 0    | 0    | 1   |\n",
    "| well     | 0     | 0   | 1    | 0        | 1    | 0    | 0     | 0    | 1    | 1   |\n",
    "| ends     | 0     | 0   | 1    | 0        | 0    | 0    | 0     | 1    | 0    | 0   |\n",
    "| `<END>`      | 0     | 0   | 0    | 0        | 0    | 0    | 1     | 1    | 0    | 0   |\n",
    "\n",
    "**Note:** In NLP, we often add `<START>` and `<END>` tokens to represent the beginning and end of sentences, paragraphs or documents. In this case we imagine `<START>` and `<END>` tokens encapsulating each document, e.g., \"`<START>` All that glitters is not gold `<END>`\", and include these tokens in our co-occurrence counts.\n",
    "\n",
    "The rows (or columns) of this matrix provide one type of word vectors (those based on word-word co-occurrence), but the vectors will be large in general (linear in the number of distinct words in a corpus). Thus, our next step is to run *dimensionality reduction*. In particular, we will run *SVD (Singular Value Decomposition)*, which is a kind of generalized *PCA (Principal Components Analysis)* to select the top $k$ principal components. Here's a visualization of dimensionality reduction with SVD. In this picture our co-occurrence matrix is $A$ with $n$ rows corresponding to $n$ words. We obtain a full matrix decomposition, with the singular values ordered in the diagonal $S$ matrix, and our new, shorter length-$k$ word vectors in $U_k$.\n",
    "\n",
    "![Picture of an SVD](./imgs/svd.png \"SVD\")\n",
    "\n",
    "This reduced-dimensionality co-occurrence representation preserves semantic relationships between words, e.g. *doctor* and *hospital* will be closer than *doctor* and *dog*. \n",
    "\n",
    "**Notes:** If you can barely remember what an eigenvalue is, here's [a slow, friendly introduction to SVD](https://davetang.org/file/Singular_Value_Decomposition_Tutorial.pdf). If you want to learn more thoroughly about PCA or SVD, feel free to check out lectures [7](https://web.stanford.edu/class/cs168/l/l7.pdf), [8](http://theory.stanford.edu/~tim/s15/l/l8.pdf), and [9](https://web.stanford.edu/class/cs168/l/l9.pdf) of CS168. These course notes provide a great high-level treatment of these general purpose algorithms. Though, for the purpose of this class, you only need to know how to extract the k-dimensional embeddings by utilizing pre-programmed implementations of these algorithms from the numpy, scipy, or sklearn python packages. In practice, it is challenging to apply full SVD to large corpora because of the memory needed to perform PCA or SVD. However, if you only want the top $k$ vector components for relatively small $k$ — known as [Truncated SVD](https://en.wikipedia.org/wiki/Singular_value_decomposition#Truncated_SVD) — then there are reasonably scalable techniques to compute those iteratively."
   ]
  },
  {
   "cell_type": "markdown",
   "metadata": {
    "id": "7IKeK4xtSStv"
   },
   "source": [
    "### Plotting Co-Occurrence Word Embeddings\n",
    "\n",
    "Here, we will be using the Reuters (business and financial news) corpus. If you haven't run the import cell at the top of this page, please run it now (click it and press SHIFT-RETURN). The corpus consists of 10,788 news documents totaling 1.3 million words. These documents span 90 categories and are split into train and test. For more details, please see https://www.nltk.org/book/ch02.html. We provide a `read_corpus` function below that pulls out only articles from the \"gold\" (i.e. news articles about gold, mining, etc.) category. The function also adds `<START>` and `<END>` tokens to each of the documents, and lowercases words. You do **not** have to perform any other kind of pre-processing."
   ]
  },
  {
   "cell_type": "code",
   "execution_count": 2,
   "metadata": {
    "id": "xwD2htUoSStw"
   },
   "outputs": [],
   "source": [
    "def read_corpus(category=\"gold\"):\n",
    "    \"\"\" Read files from the specified Reuter's category.\n",
    "        Params:\n",
    "            category (string): category name\n",
    "        Return:\n",
    "            list of lists, with words from each of the processed files\n",
    "    \"\"\"\n",
    "    files = reuters.fileids(category)\n",
    "    return [[START_TOKEN] + [w.lower() for w in list(reuters.words(f))] + [END_TOKEN] for f in files]\n"
   ]
  },
  {
   "cell_type": "markdown",
   "metadata": {
    "id": "hVLquFhjSStx"
   },
   "source": [
    "Let's have a look what these documents are like…."
   ]
  },
  {
   "cell_type": "code",
   "execution_count": 3,
   "metadata": {
    "id": "mC7B9Cb-SSty",
    "scrolled": false
   },
   "outputs": [
    {
     "name": "stdout",
     "output_type": "stream",
     "text": [
      "[['<START>', 'western', 'mining', 'to', 'open', 'new', 'gold', 'mine', 'in', 'australia', 'western',\n",
      "  'mining', 'corp', 'holdings', 'ltd', '&', 'lt', ';', 'wmng', '.', 's', '>', '(', 'wmc', ')',\n",
      "  'said', 'it', 'will', 'establish', 'a', 'new', 'joint', 'venture', 'gold', 'mine', 'in', 'the',\n",
      "  'northern', 'territory', 'at', 'a', 'cost', 'of', 'about', '21', 'mln', 'dlrs', '.', 'the',\n",
      "  'mine', ',', 'to', 'be', 'known', 'as', 'the', 'goodall', 'project', ',', 'will', 'be', 'owned',\n",
      "  '60', 'pct', 'by', 'wmc', 'and', '40', 'pct', 'by', 'a', 'local', 'w', '.', 'r', '.', 'grace',\n",
      "  'and', 'co', '&', 'lt', ';', 'gra', '>', 'unit', '.', 'it', 'is', 'located', '30', 'kms', 'east',\n",
      "  'of', 'the', 'adelaide', 'river', 'at', 'mt', '.', 'bundey', ',', 'wmc', 'said', 'in', 'a',\n",
      "  'statement', 'it', 'said', 'the', 'open', '-', 'pit', 'mine', ',', 'with', 'a', 'conventional',\n",
      "  'leach', 'treatment', 'plant', ',', 'is', 'expected', 'to', 'produce', 'about', '50', ',', '000',\n",
      "  'ounces', 'of', 'gold', 'in', 'its', 'first', 'year', 'of', 'production', 'from', 'mid', '-',\n",
      "  '1988', '.', 'annual', 'ore', 'capacity', 'will', 'be', 'about', '750', ',', '000', 'tonnes', '.',\n",
      "  '<END>'],\n",
      " ['<START>', 'belgium', 'to', 'issue', 'gold', 'warrants', ',', 'sources', 'say', 'belgium',\n",
      "  'plans', 'to', 'issue', 'swiss', 'franc', 'warrants', 'to', 'buy', 'gold', ',', 'with', 'credit',\n",
      "  'suisse', 'as', 'lead', 'manager', ',', 'market', 'sources', 'said', '.', 'no', 'confirmation',\n",
      "  'or', 'further', 'details', 'were', 'immediately', 'available', '.', '<END>'],\n",
      " ['<START>', 'belgium', 'launches', 'bonds', 'with', 'gold', 'warrants', 'the', 'kingdom', 'of',\n",
      "  'belgium', 'is', 'launching', '100', 'mln', 'swiss', 'francs', 'of', 'seven', 'year', 'notes',\n",
      "  'with', 'warrants', 'attached', 'to', 'buy', 'gold', ',', 'lead', 'mananger', 'credit', 'suisse',\n",
      "  'said', '.', 'the', 'notes', 'themselves', 'have', 'a', '3', '-', '3', '/', '8', 'pct', 'coupon',\n",
      "  'and', 'are', 'priced', 'at', 'par', '.', 'payment', 'is', 'due', 'april', '30', ',', '1987',\n",
      "  'and', 'final', 'maturity', 'april', '30', ',', '1994', '.', 'each', '50', ',', '000', 'franc',\n",
      "  'note', 'carries', '15', 'warrants', '.', 'two', 'warrants', 'are', 'required', 'to', 'allow',\n",
      "  'the', 'holder', 'to', 'buy', '100', 'grammes', 'of', 'gold', 'at', 'a', 'price', 'of', '2', ',',\n",
      "  '450', 'francs', ',', 'during', 'the', 'entire', 'life', 'of', 'the', 'bond', '.', 'the',\n",
      "  'latest', 'gold', 'price', 'in', 'zurich', 'was', '2', ',', '045', '/', '2', ',', '070', 'francs',\n",
      "  'per', '100', 'grammes', '.', '<END>']]\n"
     ]
    }
   ],
   "source": [
    "reuters_corpus = read_corpus()\n",
    "pprint.pprint(reuters_corpus[:3], compact=True, width=100)"
   ]
  },
  {
   "cell_type": "markdown",
   "metadata": {
    "id": "tfa216H1SSt0"
   },
   "source": [
    "### Question 1.1: Implement `distinct_words` [code] (2 points)\n",
    "\n",
    "Write a method to work out the distinct words (word types) that occur in the corpus. You can do this with `for` loops, but it's more efficient to do it with Python list comprehensions. In particular, [this](https://coderwall.com/p/rcmaea/flatten-a-list-of-lists-in-one-line-in-python) may be useful to flatten a list of lists. If you're not familiar with Python list comprehensions in general, here's [more information](https://python-3-patterns-idioms-test.readthedocs.io/en/latest/Comprehensions.html).\n",
    "\n",
    "Your returned `corpus_words` should be sorted. You can use python's `sorted` function for this.\n",
    "\n",
    "You may find it useful to use [Python sets](https://www.w3schools.com/python/python_sets.asp) to remove duplicate words."
   ]
  },
  {
   "cell_type": "code",
   "execution_count": 4,
   "metadata": {
    "id": "NjJABbVFSSt1"
   },
   "outputs": [],
   "source": [
    "def distinct_words(corpus):\n",
    "    \"\"\" Determine a list of distinct words for the corpus.\n",
    "        Params:\n",
    "            corpus (list of list of strings): corpus of documents\n",
    "        Return:\n",
    "            corpus_words (list of strings): sorted list of distinct words across the corpus\n",
    "            n_corpus_words (integer): number of distinct words across the corpus\n",
    "    \"\"\"\n",
    "    corpus_words = []\n",
    "    n_corpus_words = -1\n",
    "    \n",
    "    ### SOLUTION BEGIN\n",
    "    corpus_words = sorted(list(set([word for sentence in corpus for word in sentence])))\n",
    "    n_corpus_words = len(corpus_words)\n",
    "    ### SOLUTION END\n",
    "\n",
    "    print(corpus_words)\n",
    "    print(n_corpus_words)\n",
    "    return corpus_words, n_corpus_words"
   ]
  },
  {
   "cell_type": "code",
   "execution_count": 5,
   "metadata": {
    "id": "iKfXBXySSSt3"
   },
   "outputs": [
    {
     "name": "stdout",
     "output_type": "stream",
     "text": [
      "['<END>', '<START>', 'All', \"All's\", 'ends', 'glitters', 'gold', \"isn't\", 'that', 'well']\n",
      "10\n",
      "--------------------------------------------------------------------------------\n",
      "Passed All Tests!\n",
      "--------------------------------------------------------------------------------\n"
     ]
    }
   ],
   "source": [
    "# ---------------------\n",
    "# Run this sanity check\n",
    "# Note that this not an exhaustive check for correctness.\n",
    "# ---------------------\n",
    "\n",
    "# Define toy corpus\n",
    "test_corpus = [\"{} All that glitters isn't gold {}\".format(START_TOKEN, END_TOKEN).split(\" \"), \"{} All's well that ends well {}\".format(START_TOKEN, END_TOKEN).split(\" \")]\n",
    "test_corpus_words, num_corpus_words = distinct_words(test_corpus)\n",
    "\n",
    "# Correct answers\n",
    "ans_test_corpus_words = sorted([START_TOKEN, \"All\", \"ends\", \"that\", \"gold\", \"All's\", \"glitters\", \"isn't\", \"well\", END_TOKEN])\n",
    "ans_num_corpus_words = len(ans_test_corpus_words)\n",
    "\n",
    "# Test correct number of words\n",
    "assert(num_corpus_words == ans_num_corpus_words), \"Incorrect number of distinct words. Correct: {}. Yours: {}\".format(ans_num_corpus_words, num_corpus_words)\n",
    "\n",
    "# Test correct words\n",
    "assert (test_corpus_words == ans_test_corpus_words), \"Incorrect corpus_words.\\nCorrect: {}\\nYours:   {}\".format(str(ans_test_corpus_words), str(test_corpus_words))\n",
    "\n",
    "# Print Success\n",
    "print (\"-\" * 80)\n",
    "print(\"Passed All Tests!\")\n",
    "print (\"-\" * 80)"
   ]
  },
  {
   "cell_type": "markdown",
   "metadata": {
    "id": "ymDFJn_lSSt5"
   },
   "source": [
    "### Question 1.2: Implement `compute_co_occurrence_matrix` [code] (3 points)\n",
    "\n",
    "Write a method that constructs a co-occurrence matrix for a certain window-size $n$ (with a default of 4), considering words $n$ before and $n$ after the word in the center of the window. Here, we start to use `numpy (np)` to represent vectors, matrices, and tensors. If you're not familiar with NumPy, there's a NumPy tutorial in the second half of this cs231n [Python NumPy tutorial](http://cs231n.github.io/python-numpy-tutorial/).\n"
   ]
  },
  {
   "cell_type": "code",
   "execution_count": 6,
   "metadata": {
    "id": "v8MIy3KDSSt6"
   },
   "outputs": [],
   "source": [
    "def compute_co_occurrence_matrix(corpus, window_size=4):\n",
    "    \"\"\" Compute co-occurrence matrix for the given corpus and window_size (default of 4).\n",
    "    \n",
    "        Note: Each word in a document should be at the center of a window. Words near edges will have a smaller\n",
    "              number of co-occurring words.\n",
    "              \n",
    "              For example, if we take the document \"<START> All that glitters is not gold <END>\" with window size of 4,\n",
    "              \"All\" will co-occur with \"<START>\", \"that\", \"glitters\", \"is\", and \"not\".\n",
    "    \n",
    "        Params:\n",
    "            corpus (list of list of strings): corpus of documents\n",
    "            window_size (int): size of context window\n",
    "        Return:\n",
    "            M (a symmetric numpy matrix of shape (number of unique words in the corpus , number of unique words in the corpus)): \n",
    "                Co-occurence matrix of word counts. \n",
    "                The ordering of the words in the rows/columns should be the same as the ordering of the words given by the distinct_words function.\n",
    "            word2ind (dict): dictionary that maps word to index (i.e. row/column number) for matrix M.\n",
    "    \"\"\"\n",
    "    words, n_words = distinct_words(corpus)\n",
    "    M = None\n",
    "    word2ind = {}\n",
    "    \n",
    "    ### SOLUTION BEGIN\n",
    "    my_2d_list = [[0 for row in range(n_words)] for col in range(n_words)]\n",
    "    word2ind = dict(zip(words, range(n_words)))\n",
    "    for text in corpus:\n",
    "        length = len(text)\n",
    "        for i in range(length):\n",
    "            left = i - window_size\n",
    "            right = i + window_size\n",
    "            if left >= 0:\n",
    "                for word in text[left:i]:\n",
    "                    my_2d_list[word2ind[text[i]]][word2ind[word]] += 1\n",
    "            elif i > 0:\n",
    "                for word in text[:i]:\n",
    "                    my_2d_list[word2ind[text[i]]][word2ind[word]] += 1\n",
    "            if right < length:\n",
    "                for word in text[i+1:right+1]:\n",
    "                    my_2d_list[word2ind[text[i]]][word2ind[word]] += 1\n",
    "            elif i < length - 1:\n",
    "                for word in text[i+1:]:\n",
    "                    my_2d_list[word2ind[text[i]]][word2ind[word]] += 1\n",
    "    M = np.array(my_2d_list)\n",
    "    ### SOLUTION END\n",
    "    return M, word2ind"
   ]
  },
  {
   "cell_type": "code",
   "execution_count": 7,
   "metadata": {
    "id": "u-6ID1qhSSt7"
   },
   "outputs": [
    {
     "name": "stdout",
     "output_type": "stream",
     "text": [
      "['<END>', '<START>', 'All', \"All's\", 'ends', 'glitters', 'gold', \"isn't\", 'that', 'well']\n",
      "10\n",
      "--------------------------------------------------------------------------------\n",
      "Passed All Tests!\n",
      "--------------------------------------------------------------------------------\n"
     ]
    }
   ],
   "source": [
    "# ---------------------\n",
    "# Run this sanity check\n",
    "# Note that this is not an exhaustive check for correctness.\n",
    "# ---------------------\n",
    "\n",
    "# Define toy corpus and get student's co-occurrence matrix\n",
    "\n",
    "test_corpus = [\"{} All that glitters isn't gold {}\".format(START_TOKEN, END_TOKEN).split(\" \"), \"{} All's well that ends well {}\".format(START_TOKEN, END_TOKEN).split(\" \")]\n",
    "M_test, word2ind_test = compute_co_occurrence_matrix(test_corpus, window_size=1)\n",
    "\n",
    "# Correct M and word2ind\n",
    "M_test_ans = np.array( \n",
    "    [[0., 0., 0., 0., 0., 0., 1., 0., 0., 1.,],\n",
    "     [0., 0., 1., 1., 0., 0., 0., 0., 0., 0.,],\n",
    "     [0., 1., 0., 0., 0., 0., 0., 0., 1., 0.,],\n",
    "     [0., 1., 0., 0., 0., 0., 0., 0., 0., 1.,],\n",
    "     [0., 0., 0., 0., 0., 0., 0., 0., 1., 1.,],\n",
    "     [0., 0., 0., 0., 0., 0., 0., 1., 1., 0.,],\n",
    "     [1., 0., 0., 0., 0., 0., 0., 1., 0., 0.,],\n",
    "     [0., 0., 0., 0., 0., 1., 1., 0., 0., 0.,],\n",
    "     [0., 0., 1., 0., 1., 1., 0., 0., 0., 1.,],\n",
    "     [1., 0., 0., 1., 1., 0., 0., 0., 1., 0.,]]\n",
    ")\n",
    "ans_test_corpus_words = sorted([START_TOKEN, \"All\", \"ends\", \"that\", \"gold\", \"All's\", \"glitters\", \"isn't\", \"well\", END_TOKEN])\n",
    "word2ind_ans = dict(zip(ans_test_corpus_words, range(len(ans_test_corpus_words))))\n",
    "\n",
    "# Test correct word2ind\n",
    "assert (word2ind_ans == word2ind_test), \"Your word2ind is incorrect:\\nCorrect: {}\\nYours: {}\".format(word2ind_ans, word2ind_test)\n",
    "\n",
    "# Test correct M shape\n",
    "assert (M_test.shape == M_test_ans.shape), \"M matrix has incorrect shape.\\nCorrect: {}\\nYours: {}\".format(M_test.shape, M_test_ans.shape)\n",
    "\n",
    "# Test correct M values\n",
    "for w1 in word2ind_ans.keys():\n",
    "    idx1 = word2ind_ans[w1]\n",
    "    for w2 in word2ind_ans.keys():\n",
    "        idx2 = word2ind_ans[w2]\n",
    "        student = M_test[idx1, idx2]\n",
    "        correct = M_test_ans[idx1, idx2]\n",
    "        if student != correct:\n",
    "            print(\"Correct M:\")\n",
    "            print(M_test_ans)\n",
    "            print(\"Your M: \")\n",
    "            print(M_test)\n",
    "            raise AssertionError(\"Incorrect count at index ({}, {})=({}, {}) in matrix M. Yours has {} but should have {}.\".format(idx1, idx2, w1, w2, student, correct))\n",
    "\n",
    "# Print Success\n",
    "print (\"-\" * 80)\n",
    "print(\"Passed All Tests!\")\n",
    "print (\"-\" * 80)"
   ]
  },
  {
   "cell_type": "markdown",
   "metadata": {
    "id": "K-nyJnAASSt9"
   },
   "source": [
    "### Question 1.3: Implement `reduce_to_k_dim` [code] (1 point)\n",
    "\n",
    "Construct a method that performs dimensionality reduction on the matrix to produce k-dimensional embeddings. Use SVD to take the top k components and produce a new matrix of k-dimensional embeddings. \n",
    "\n",
    "**Note:** All of numpy, scipy, and scikit-learn (`sklearn`) provide *some* implementation of SVD, but only scipy and sklearn provide an implementation of Truncated SVD, and only sklearn provides an efficient randomized algorithm for calculating large-scale Truncated SVD. So please use [sklearn.decomposition.TruncatedSVD](https://scikit-learn.org/stable/modules/generated/sklearn.decomposition.TruncatedSVD.html)."
   ]
  },
  {
   "cell_type": "code",
   "execution_count": 8,
   "metadata": {
    "id": "truGMjifSSt9"
   },
   "outputs": [],
   "source": [
    "def reduce_to_k_dim(M, k=2):\n",
    "    \"\"\" Reduce a co-occurence count matrix of dimensionality (num_corpus_words, num_corpus_words)\n",
    "        to a matrix of dimensionality (num_corpus_words, k) using the following SVD function from Scikit-Learn:\n",
    "            - http://scikit-learn.org/stable/modules/generated/sklearn.decomposition.TruncatedSVD.html\n",
    "    \n",
    "        Params:\n",
    "            M (numpy matrix of shape (number of unique words in the corpus , number of unique words in the corpus)): co-occurence matrix of word counts\n",
    "            k (int): embedding size of each word after dimension reduction\n",
    "        Return:\n",
    "            M_reduced (numpy matrix of shape (number of corpus words, k)): matrix of k-dimensioal word embeddings.\n",
    "                    In terms of the SVD from math class, this actually returns U * S\n",
    "    \"\"\"    \n",
    "    n_iters = 10     # Use this parameter in your call to `TruncatedSVD`\n",
    "    M_reduced = None\n",
    "    print(\"Running Truncated SVD over %i words...\" % (M.shape[0]))\n",
    "    \n",
    "    ### SOLUTION BEGIN\n",
    "        \n",
    "    ### SOLUTION END\n",
    "\n",
    "    print(\"Done.\")\n",
    "    return M_reduced"
   ]
  },
  {
   "cell_type": "code",
   "execution_count": 9,
   "metadata": {
    "id": "7pqKuqvhSSt-"
   },
   "outputs": [
    {
     "name": "stdout",
     "output_type": "stream",
     "text": [
      "['<END>', '<START>', 'All', \"All's\", 'ends', 'glitters', 'gold', \"isn't\", 'that', 'well']\n",
      "10\n",
      "Running Truncated SVD over 10 words...\n",
      "Done.\n"
     ]
    },
    {
     "ename": "AttributeError",
     "evalue": "'NoneType' object has no attribute 'shape'",
     "output_type": "error",
     "traceback": [
      "\u001b[1;31m---------------------------------------------------------------------------\u001b[0m",
      "\u001b[1;31mAttributeError\u001b[0m                            Traceback (most recent call last)",
      "Cell \u001b[1;32mIn[9], line 13\u001b[0m\n\u001b[0;32m     10\u001b[0m M_test_reduced \u001b[38;5;241m=\u001b[39m reduce_to_k_dim(M_test, k\u001b[38;5;241m=\u001b[39m\u001b[38;5;241m2\u001b[39m)\n\u001b[0;32m     12\u001b[0m \u001b[38;5;66;03m# Test proper dimensions\u001b[39;00m\n\u001b[1;32m---> 13\u001b[0m \u001b[38;5;28;01massert\u001b[39;00m (M_test_reduced\u001b[38;5;241m.\u001b[39mshape[\u001b[38;5;241m0\u001b[39m] \u001b[38;5;241m==\u001b[39m \u001b[38;5;241m10\u001b[39m), \u001b[38;5;124m\"\u001b[39m\u001b[38;5;124mM_reduced has \u001b[39m\u001b[38;5;132;01m{}\u001b[39;00m\u001b[38;5;124m rows; should have \u001b[39m\u001b[38;5;132;01m{}\u001b[39;00m\u001b[38;5;124m\"\u001b[39m\u001b[38;5;241m.\u001b[39mformat(M_test_reduced\u001b[38;5;241m.\u001b[39mshape[\u001b[38;5;241m0\u001b[39m], \u001b[38;5;241m10\u001b[39m)\n\u001b[0;32m     14\u001b[0m \u001b[38;5;28;01massert\u001b[39;00m (M_test_reduced\u001b[38;5;241m.\u001b[39mshape[\u001b[38;5;241m1\u001b[39m] \u001b[38;5;241m==\u001b[39m \u001b[38;5;241m2\u001b[39m), \u001b[38;5;124m\"\u001b[39m\u001b[38;5;124mM_reduced has \u001b[39m\u001b[38;5;132;01m{}\u001b[39;00m\u001b[38;5;124m columns; should have \u001b[39m\u001b[38;5;132;01m{}\u001b[39;00m\u001b[38;5;124m\"\u001b[39m\u001b[38;5;241m.\u001b[39mformat(M_test_reduced\u001b[38;5;241m.\u001b[39mshape[\u001b[38;5;241m1\u001b[39m], \u001b[38;5;241m2\u001b[39m)\n\u001b[0;32m     16\u001b[0m \u001b[38;5;66;03m# Print Success\u001b[39;00m\n",
      "\u001b[1;31mAttributeError\u001b[0m: 'NoneType' object has no attribute 'shape'"
     ]
    }
   ],
   "source": [
    "# ---------------------\n",
    "# Run this sanity check\n",
    "# Note that this is not an exhaustive check for correctness \n",
    "# In fact we only check that your M_reduced has the right dimensions.\n",
    "# ---------------------\n",
    "\n",
    "# Define toy corpus and run student code\n",
    "test_corpus = [\"{} All that glitters isn't gold {}\".format(START_TOKEN, END_TOKEN).split(\" \"), \"{} All's well that ends well {}\".format(START_TOKEN, END_TOKEN).split(\" \")]\n",
    "M_test, word2ind_test = compute_co_occurrence_matrix(test_corpus, window_size=1)\n",
    "M_test_reduced = reduce_to_k_dim(M_test, k=2)\n",
    "\n",
    "# Test proper dimensions\n",
    "assert (M_test_reduced.shape[0] == 10), \"M_reduced has {} rows; should have {}\".format(M_test_reduced.shape[0], 10)\n",
    "assert (M_test_reduced.shape[1] == 2), \"M_reduced has {} columns; should have {}\".format(M_test_reduced.shape[1], 2)\n",
    "\n",
    "# Print Success\n",
    "print (\"-\" * 80)\n",
    "print(\"Passed All Tests!\")\n",
    "print (\"-\" * 80)"
   ]
  },
  {
   "cell_type": "markdown",
   "metadata": {
    "id": "apZknsLoSSt_"
   },
   "source": [
    "### Question 1.4: Implement `plot_embeddings` [code] (1 point)\n",
    "\n",
    "Here you will write a function to plot a set of 2D vectors in 2D space. For graphs, we will use Matplotlib (`plt`).\n",
    "\n",
    "For this example, you may find it useful to adapt [this code](http://web.archive.org/web/20190924160434/https://www.pythonmembers.club/2018/05/08/matplotlib-scatter-plot-annotate-set-text-at-label-each-point/). In the future, a good way to make a plot is to look at [the Matplotlib gallery](https://matplotlib.org/gallery/index.html), find a plot that looks somewhat like what you want, and adapt the code they give."
   ]
  },
  {
   "cell_type": "code",
   "execution_count": 10,
   "metadata": {
    "id": "dDcCZE5lSSuA"
   },
   "outputs": [],
   "source": [
    "def plot_embeddings(M_reduced, word2ind, words):\n",
    "    \"\"\" Plot in a scatterplot the embeddings of the words specified in the list \"words\".\n",
    "        NOTE: do not plot all the words listed in M_reduced / word2ind.\n",
    "        Include a label next to each point.\n",
    "        \n",
    "        Params:\n",
    "            M_reduced (numpy matrix of shape (number of unique words in the corpus , 2)): matrix of 2-dimensioal word embeddings\n",
    "            word2ind (dict): dictionary that maps word to indices for matrix M\n",
    "            words (list of strings): words whose embeddings we want to visualize\n",
    "    \"\"\"\n",
    "\n",
    "    ### SOLUTION BEGIN\n",
    "    \n",
    "    ### SOLUTION END"
   ]
  },
  {
   "cell_type": "code",
   "execution_count": 13,
   "metadata": {
    "id": "gHxOMWPxSSuB"
   },
   "outputs": [
    {
     "name": "stdout",
     "output_type": "stream",
     "text": [
      "--------------------------------------------------------------------------------\n",
      "Outputted Plot:\n",
      "--------------------------------------------------------------------------------\n"
     ]
    }
   ],
   "source": [
    "# ---------------------\n",
    "# Run this sanity check\n",
    "# Note that this is not an exhaustive check for correctness.\n",
    "# The plot produced should look like the \"test solution plot\" depicted below. \n",
    "# ---------------------\n",
    "\n",
    "print (\"-\" * 80)\n",
    "print (\"Outputted Plot:\")\n",
    "\n",
    "M_reduced_plot_test = np.array([[1, 1], [-1, -1], [1, -1], [-1, 1], [0, 0]])\n",
    "word2ind_plot_test = {'test1': 0, 'test2': 1, 'test3': 2, 'test4': 3, 'test5': 4}\n",
    "words = ['test1', 'test2', 'test3', 'test4', 'test5']\n",
    "plot_embeddings(M_reduced_plot_test, word2ind_plot_test, words)\n",
    "\n",
    "print (\"-\" * 80)"
   ]
  },
  {
   "cell_type": "markdown",
   "metadata": {
    "id": "YpBzYs2hSSuC"
   },
   "source": [
    "### Question 1.5: Co-Occurrence Plot Analysis [written] (3 points)\n",
    "\n",
    "Now we will put together all the parts you have written! We will compute the co-occurrence matrix with fixed window of 4 (the default window size), over the Reuters \"gold\" corpus. Then we will use TruncatedSVD to compute 2-dimensional embeddings of each word. TruncatedSVD returns U\\*S, so we need to normalize the returned vectors, so that all the vectors will appear around the unit circle (therefore closeness is directional closeness). **Note**: The line of code below that does the normalizing uses the NumPy concept of *broadcasting*. If you don't know about broadcasting, check out\n",
    "[Computation on Arrays: Broadcasting by Jake VanderPlas](https://jakevdp.github.io/PythonDataScienceHandbook/02.05-computation-on-arrays-broadcasting.html).\n",
    "\n",
    "Run the below cell to produce the plot. It'll probably take a few seconds to run."
   ]
  },
  {
   "cell_type": "code",
   "execution_count": 14,
   "metadata": {
    "id": "7L1Uk50mSSuD",
    "scrolled": false
   },
   "outputs": [
    {
     "name": "stdout",
     "output_type": "stream",
     "text": [
      "['\"', '&', \"'\", '(', ')', '),', ').', ',', ',\"', ',.', '-', '--', '.', '.\"', '.,', '..', '...', '/', '0', '00', '000', '008', '011', '02', '025', '026', '027', '045', '046', '05', '050', '055', '057', '062', '064', '068', '070', '073', '077', '078', '08', '09', '1', '10', '100', '103', '104', '105', '106', '108', '11', '112', '116', '118', '12', '120', '1200', '123', '127', '129', '13', '130', '132', '133', '139', '14', '140', '141', '145', '15', '150', '151', '158', '16', '160', '161', '163', '166', '17', '170', '171', '172', '177', '18', '183', '185', '187', '1896', '19', '190', '1904', '191', '192', '1926', '193', '1931', '1937', '194', '1955', '1967', '1971', '1978', '1979', '1980', '1981', '1982', '1983', '1984', '1985', '1986', '1987', '1988', '1989', '1990', '1990s', '1991', '1992', '1994', '2', '20', '200', '201', '206', '207', '21', '211', '212', '22', '221', '222', '223', '225', '226', '23', '2354', '237', '24', '240', '243', '244', '25', '250', '251', '257', '26', '262', '265', '266', '268', '27', '28', '29', '293', '2nd', '3', '30', '300', '302', '30th', '31', '32', '320', '322', '33', '342', '35', '350', '355', '36', '360', '368', '37', '374', '375', '38', '380', '39', '390', '392', '3rd', '4', '40', '400', '408', '409', '41', '410', '411', '416', '418', '42', '422', '425', '43', '430', '432', '433', '434', '436', '44', '440', '447', '45', '450', '457', '458', '460', '462', '468', '47', '470', '474', '475', '48', '49', '490', '5', '50', '500', '51', '510', '514', '528', '530', '531', '538', '540', '545', '55', '56', '57', '577', '578', '580', '583', '585', '59', '594', '6', '60', '600', '60th', '61', '611', '612', '62', '626', '627', '63', '638', '64', '640', '65', '650', '653', '66', '666', '669', '67', '671', '678', '686', '69', '692', '693', '698', '7', '70', '700', '706', '708', '71', '72', '73', '730', '74', '749', '75', '750', '754', '756', '757', '76', '765', '77', '777', '778', '779', '78', '785', '79', '8', '80', '800', '805', '8067', '809', '81', '811', '82', '820', '832', '849', '85', '86', '87', '88', '89', '9', '90', '900', '902', '906', '91', '910', '911', '919', '92', '93', '94', '940', '95', '951', '955', '96', '966', '968', '97', '978', '99', '999', ':', ';', '<END>', '<START>', '>', '>,', '>.', '?\"', 'a', 'ab', 'ability', 'able', 'abolished', 'about', 'above', 'abroad', 'absorbed', 'accept', 'accessible', 'accident', 'according', 'accused', 'achieve', 'achieved', 'acknowledged', 'acm', 'acquire', 'acquired', 'acquiring', 'acquisition', 'acquisitions', 'acquistions', 'acre', 'acres', 'across', 'act', 'action', 'activities', 'actual', 'add', 'added', 'adding', 'addition', 'additional', 'address', 'adelaide', 'adh', 'adjacent', 'admiralty', 'adopt', 'advance', 'advanced', 'affair', 'affect', 'affected', 'africa', 'african', 'after', 'ag', 'again', 'against', 'agencies', 'agency', 'aggregate', 'ago', 'agreed', 'agreement', 'agriculture', 'ahead', 'aimed', 'aiming', 'aims', 'alan', 'alaska', 'all', 'alleged', 'alligator', 'allow', 'allowable', 'allowed', 'alluvial', 'almost', 'along', 'already', 'also', 'altered', 'alternative', 'although', 'aluminum', 'amapa', 'amax', 'amenable', 'america', 'american', 'amid', 'among', 'amore', 'amount', 'amounts', 'amselco', 'amx', 'an', 'analyst', 'analysts', 'and', 'andrew', 'angl', 'anglo', 'animals', 'ann', 'anniversary', 'announced', 'announcement', 'announces', 'annual', 'another', 'anti', 'anticipated', 'anticipates', 'anticipation', 'antiquated', 'any', 'apartheid', 'apiece', 'apparent', 'appears', 'apply', 'approach', 'approached', 'appropriate', 'approval', 'approvals', 'approve', 'approved', 'approves', 'approximate', 'approximately', 'april', 'arabia', 'arabian', 'are', 'area', 'areas', 'ariz', 'arizona', 'arms', 'around', 'arrangement', 'arrangements', 'arrest', 'arrested', 'articles', 'as', 'asa', 'asamera', 'asc', 'ascertain', 'asia', 'asked', 'asm', 'assay', 'assayed', 'assaying', 'assays', 'assets', 'associated', 'association', 'assurances', 'astro', 'at', 'attached', 'attempt', 'attempted', 'attend', 'attended', 'attending', 'attention', 'attorney', 'attributed', 'august', 'australia', 'australian', 'authority', 'autumn', 'available', 'average', 'averaged', 'averages', 'averaging', 'away', 'b', 'bachem', 'back', 'bags', 'balance', 'baldwin', 'banda', 'bank', 'bankers', 'bankrupt', 'bankruptcy', 'banks', 'banque', 'baord', 'barney', 'barrett', 'barrick', 'barring', 'bars', 'base', 'based', 'basic', 'basis', 'basket', 'bay', 'bayonet', 'be', 'bearing', 'because', 'becoming', 'been', 'before', 'began', 'begin', 'begun', 'behind', 'being', 'belgian', 'belgium', 'believe', 'believed', 'believes', 'bell', 'bellies', 'below', 'beneath', 'benefiting', 'benefits', 'best', 'better', 'between', 'bh', 'bhp', 'bhpgm', 'bid', 'big', 'biggest', 'bill', 'billion', 'bills', 'bioleaching', 'black', 'bloodstained', 'board', 'boddington', 'body', 'bois', 'boksburg', 'boliden', 'bond', 'bonds', 'boost', 'boosted', 'boosts', 'border', 'borrower', 'bossa', 'boston', 'both', 'bottle', 'bottom', 'bought', 'boundary', 'bourse', 'bp', 'branch', 'brazil', 'break', 'breaking', 'breaks', 'breakthrough', 'breakwater', 'bring', 'brings', 'britain', 'britannia', 'british', 'brkn', 'broad', 'broken', 'brokers', 'brothers', 'brown', 'browns', 'budget', 'build', 'built', 'bulk', 'bullion', 'bullish', 'bulolo', 'bundey', 'buoyant', 'burdensome', 'bureau', 'burro', 'business', 'businessmen', 'busy', 'but', 'buy', 'buyer', 'buyers', 'buying', 'buys', 'bwrlf', 'by', 'cabinet', 'cain', 'calculated', 'calculation', 'calculations', 'calif', 'california', 'call', 'called', 'calls', 'cambior', 'came', 'camp', 'campbell', 'can', 'canada', 'canadian', 'canamax', 'cannon', 'canty', 'capable', 'capacity', 'cape', 'capital', 'carat', 'carbon', 'carbonate', 'carlin', 'carolin', 'carolina', 'carried', 'carries', 'carry', 'carrying', 'case', 'cases', 'cash', 'catalytic', 'catch', 'cattle', 'cause', 'caused', 'causing', 'caution', 'cautiously', 'cbt', 'cch', 'ccimf', 'cds', 'ceased', 'celebrate', 'cenepa', 'cent', 'centers', 'central', 'cents', 'chairman', 'chamber', 'chance', 'change', 'changed', 'character', 'characterised', 'characteristics', 'charge', 'charges', 'chasing', 'cheap', 'cheaper', 'check', 'checked', 'chemical', 'chester', 'chibougamau', 'chibougamu', 'chicago', 'chief', 'china', 'chromite', 'chronowitz', 'cie', 'citibank', 'citicorp', 'citizens', 'city', 'claimed', 'claims', 'clear', 'clearing', 'clients', 'climate', 'clive', 'close', 'closed', 'closely', 'closes', 'cmp', 'co', 'coal', 'coast', 'cohen', 'coin', 'coins', 'collaborated', 'colleagues', 'collected', 'collectors', 'colliery', 'columbia', 'combined', 'come', 'comex', 'commemorate', 'commemorative', 'comment', 'commercial', 'commerzbank', 'commission', 'commissioned', 'commissions', 'commitment', 'commodities', 'commodity', 'community', 'companies', 'company', 'comparatively', 'compared', 'compares', 'comparisons', 'compete', 'competition', 'competitive', 'complete', 'completed', 'completes', 'completion', 'complex', 'comprise', 'comprised', 'concentrate', 'concentration', 'concern', 'concerned', 'concerns', 'concession', 'conclusions', 'concrete', 'conditional', 'conditionally', 'conditions', 'conducted', 'conference', 'confidence', 'confirmation', 'confirmed', 'confusion', 'conger', 'congress', 'conservatively', 'consider', 'considerable', 'considering', 'consist', 'consisting', 'consists', 'consolidated', 'consolidation', 'constant', 'construct', 'construction', 'consumer', 'contain', 'contained', 'containing', 'contains', 'content', 'contiguous', 'continuation', 'continue', 'continued', 'continuing', 'continuous', 'continuously', 'contract', 'contracts', 'contribute', 'contributions', 'control', 'controlled', 'controls', 'contruction', 'conventional', 'cooperation', 'copies', 'copper', 'cornucopia', 'coronation', 'corp', 'correct', 'corrected', 'correction', 'corrects', 'corresponding', 'cost', 'costs', 'cotton', 'could', 'council', 'countries', 'country', 'county', 'coupon', 'court', 'cove', 'covered', 'covering', 'covers', 'create', 'created', 'creation', 'credit', 'creditors', 'creek', 'crews', 'crk', 'crlnf', 'crowd', 'crown', 'crude', 'csx', 'cts', 'cubic', 'culpable', 'cure', 'currencies', 'currency', 'current', 'currently', 'custer', 'cut', 'cyanidation', 'd', 'daily', 'dakota', 'dampen', 'damper', 'date', 'day', 'days', 'de', 'deal', 'dealers', 'death', 'debt', 'debts', 'dec', 'decade', 'december', 'decision', 'declared', 'decline', 'declined', 'decreased', 'deep', 'deficit', 'deficits', 'defined', 'defines', 'defrauding', 'deka', 'delivered', 'deliveries', 'delivery', 'demand', 'demanded', 'democratic', 'denominated', 'denominations', 'department', 'depend', 'deposit', 'deposits', 'depth', 'described', 'designate', 'designed', 'despite', 'details', 'detected', 'determine', 'develop', 'developed', 'development', 'developments', 'devised', 'dhahab', 'diamond', 'did', 'died', 'different', 'difficult', 'dillution', 'diplomats', 'direct', 'direction', 'director', 'disagreed', 'disaster', 'disclose', 'discovered', 'discovery', 'discussion', 'disruption', 'disruptions', 'dissatisfaction', 'distance', 'distorted', 'district', 'diversity', 'division', 'dlr', 'dlrs', 'dm', 'do', 'documentation', 'does', 'dollar', 'dollars', 'dome', 'domestic', 'dominated', 'dominick', 'dominion', 'don', 'donalda', 'done', 'donna', 'double', 'dowa', 'down', 'downdip', 'downed', 'downside', 'doyon', 'drawing', 'drawn', 'dredge', 'dredging', 'dried', 'drift', 'drifting', 'drill', 'drilled', 'drillhole', 'drilling', 'drop', 'dropping', 'due', 'during', 'each', 'eagle', 'earlier', 'early', 'earn', 'earned', 'earnings', 'easier', 'east', 'eastern', 'eastward', 'ec', 'echo', 'eco', 'economic', 'economically', 'economies', 'economy', 'ecu', 'ecuadorean', 'ecus', 'effect', 'effective', 'efforts', 'eight', 'either', 'elaborate', 'elders', 'eliminated', 'elimination', 'else', 'elsewhere', 'eluvial', 'ely', 'emerged', 'emergency', 'emerges', 'emerging', 'emperor', 'emphasized', 'employees', 'enable', 'encountered', 'encourage', 'encouraged', 'encouraging', 'end', 'ending', 'endorse', 'ends', 'enhance', 'enough', 'enquiries', 'enriched', 'ensure', 'entering', 'entire', 'entitled', 'entitling', 'environmental', 'epithermal', 'equipment', 'equity', 'equivalent', 'erickson', 'escalated', 'escape', 'escudo', 'especially', 'establish', 'established', 'estimate', 'estimated', 'estimates', 'estimating', 'europe', 'european', 'evaluation', 'even', 'ever', 'every', 'everything', 'evident', 'exaias', 'examine', 'exceed', 'exceeding', 'except', 'exceptional', 'excess', 'exchange', 'exchanges', 'exciting', 'excluded', 'excluding', 'executive', 'executives', 'exercisable', 'exercise', 'exercised', 'exhausted', 'exist', 'existing', 'expand', 'expanding', 'expansion', 'expect', 'expected', 'expects', 'expenditure', 'expenditures', 'exploit', 'exploited', 'exploration', 'explorations', 'explorer', 'explosion', 'explosives', 'export', 'exporting', 'exports', 'extend', 'extended', 'extending', 'extension', 'extensive', 'extent', 'extract', 'extracted', 'extracting', 'extraction', 'eyskens', 'face', 'facilities', 'facility', 'facing', 'fact', 'factor', 'factors', 'failed', 'failure', 'fairbanks', 'fairly', 'falconbridge', 'fall', 'falling', 'falls', 'families', 'far', 'farmers', 'farther', 'faster', 'favorable', 'fears', 'feasability', 'feasibility', 'february', 'federal', 'feels', 'fees', 'feet', 'fell', 'felt', 'few', 'field', 'figure', 'figures', 'filmed', 'final', 'finalization', 'finance', 'financial', 'financials', 'financing', 'find', 'finds', 'fine', 'fined', 'fire', 'firm', 'firmer', 'firming', 'firmness', 'firms', 'first', 'fish', 'fits', 'five', 'fix', 'fixed', 'fixing', 'float', 'floated', 'flotation', 'flow', 'fluctuate', 'fluctuations', 'flurry', 'followed', 'following', 'food', 'foot', 'for', 'force', 'forecast', 'foreign', 'form', 'former', 'forward', 'found', 'foundation', 'founded', 'founding', 'four', 'fraction', 'franc', 'franco', 'francs', 'fraud', 'free', 'friday', 'from', 'front', 'frozen', 'fscn', 'ft', 'full', 'fully', 'fumes', 'fund', 'funded', 'funds', 'funeral', 'further', 'future', 'futures', 'gain', 'gained', 'gains', 'galactic', 'galcf', 'gallium', 'game', 'gap', 'garcia', 'gas', 'gave', 'gbylf', 'gc', 'geduld', 'general', 'generated', 'generating', 'genm', 'geodome', 'geological', 'geologists', 'german', 'germanium', 'germany', 'get', 'gets', 'ggg', 'ghana', 'giant', 'girozentrale', 'give', 'given', 'go', 'goal', 'gobain', 'goedf', 'going', 'gold', 'golden', 'goldfield', 'goldfields', 'goldman', 'goldmine', 'golds', 'goldstrike', 'gonaives', 'gone', 'good', 'goodall', 'goods', 'gooseberry', 'goran', 'gordex', 'gordon', 'gough', 'government', 'gra', 'grace', 'grade', 'graded', 'grades', 'grading', 'grain', 'grains', 'gram', 'grammes', 'grams', 'grand', 'granted', 'gravel', 'great', 'greater', 'greens', 'grew', 'grootvlei', 'gross', 'group', 'growing', 'grown', 'growth', 'guaranteed', 'guaranty', 'guinea', 'gunnar', 'gympie', 'h', 'had', 'haiti', 'haitian', 'half', 'hallmarked', 'halt', 'hamburg', 'hanging', 'happening', 'hardrock', 'harris', 'harry', 'has', 'have', 'haven', 'having', 'he', 'heap', 'heard', 'heavy', 'hecla', 'hedge', 'heilongjiang', 'held', 'helena', 'help', 'hemlo', 'here', 'hermann', 'high', 'higher', 'highest', 'highlighted', 'highly', 'hill', 'hirohito', 'hiroshi', 'his', 'hl', 'hm', 'hofer', 'hog', 'hogs', 'hold', 'holder', 'holders', 'holding', 'holdings', 'holds', 'hole', 'holes', 'home', 'homeland', 'homestake', 'homicide', 'hong', 'hope', 'hopes', 'hostages', 'hostels', 'hour', 'hourly', 'hours', 'house', 'houses', 'housewives', 'housing', 'houston', 'how', 'howard', 'however', 'hundreds', 'i', 'idaho', 'idea', 'ideas', 'identified', 'if', 'ignasio', 'ii', 'illinois', 'immediate', 'immediately', 'impact', 'implications', 'implicit', 'important', 'imported', 'importer', 'imports', 'impose', 'imposed', 'imposes', 'imposing', 'imposition', 'improve', 'improved', 'improvement', 'improving', 'in', 'inc', 'include', 'included', 'including', 'increase', 'increased', 'increases', 'increasing', 'incredible', 'incx', 'index', 'indicate', 'indicated', 'indicates', 'indium', 'indosuez', 'industrial', 'industry', 'inexact', 'inflation', 'inflationary', 'influence', 'influences', 'infrastructure', 'ing', 'initial', 'injured', 'inlet', 'inspiration', 'instability', 'install', 'institutions', 'insurance', 'integration', 'intended', 'intented', 'interest', 'interests', 'intergold', 'interior', 'internally', 'international', 'internationalising', 'intersected', 'intersection', 'intersections', 'intersects', 'interval', 'intervals', 'intervention', 'interview', 'into', 'introduction', 'invest', 'investigation', 'investing', 'investment', 'investments', 'investor', 'investors', 'involved', 'involving', 'inyo', 'iran', 'iranian', 'irc', 'is', 'ishikawa', 'island', 'issue', 'issued', 'issuer', 'issues', 'issuing', 'it', 'items', 'its', 'itself', 'ivanhoe', 'j', 'jailed', 'jan', 'january', 'japan', 'japanese', 'jewellery', 'jobs', 'joe', 'joensson', 'johannesburg', 'john', 'johnny', 'joint', 'jointly', 'jones', 'journalists', 'july', 'jump', 'jumped', 'june', 'jungle', 'just', 'k', 'kazuo', 'ketza', 'key', 'killed', 'kilo', 'kilometer', 'kilometers', 'kilos', 'kina', 'kindled', 'kingdom', 'kingman', 'kingsley', 'kinross', 'kirkland', 'kjell', 'km', 'kms', 'knobbs', 'knowhow', 'known', 'kobe', 'kong', 'korea', 'korean', 'krugerrand', 'labour', 'lac', 'lacana', 'lack', 'lag', 'lake', 'land', 'landesbank', 'languished', 'large', 'larger', 'largest', 'last', 'late', 'later', 'latest', 'latin', 'launched', 'launches', 'launching', 'law', 'lawyers', 'lbs', 'leach', 'leaching', 'lead', 'leader', 'leaders', 'leaf', 'leased', 'least', 'led', 'legal', 'legislation', 'lehman', 'length', 'leonora', 'lesley', 'less', 'lesser', 'let', 'level', 'levels', 'leverage', 'leveraged', 'levied', 'levon', 'li', 'liabilities', 'license', 'lies', 'life', 'lifting', 'like', 'likely', 'limit', 'limited', 'limits', 'lines', 'linked', 'links', 'list', 'listing', 'lists', 'literature', 'little', 'live', 'lived', 'lively', 'livestock', 'local', 'located', 'locates', 'location', 'locations', 'locked', 'london', 'long', 'longer', 'look', 'looking', 'looks', 'losing', 'loss', 'losses', 'lot', 'lots', 'low', 'lower', 'lowest', 'lows', 'lt', 'ltd', 'luxembourg', 'lvnvf', 'lynch', 'lynn', 'm', 'made', 'mahd', 'main', 'mainly', 'maison', 'major', 'majority', 'make', 'makes', 'making', 'management', 'manager', 'managers', 'mananger', 'mandela', 'manitoba', 'mann', 'manner', 'manufactured', 'many', 'maple', 'march', 'margin', 'margins', 'mark', 'marked', 'market', 'marketed', 'markets', 'marks', 'martin', 'marty', 'mascot', 'material', 'mats', 'maturities', 'maturity', 'may', 'maybe', 'mccoy', 'mclaughlin', 'mcneill', 'me', 'means', 'meant', 'measure', 'meeting', 'meets', 'members', 'membership', 'men', 'mercantile', 'merger', 'merrill', 'meston', 'metal', 'metallurgical', 'metals', 'meters', 'methane', 'method', 'methods', 'metres', 'metric', 'mgdvf', 'michael', 'microscopic', 'mid', 'middle', 'might', 'migrant', 'mild', 'mile', 'miles', 'mill', 'milled', 'milling', 'mine', 'mineable', 'mined', 'miner', 'mineral', 'mineralization', 'mineralized', 'minerals', 'miners', 'mines', 'mineworkers', 'minging', 'mining', 'minister', 'ministers', 'ministry', 'mint', 'minted', 'minting', 'misima', 'mistake', 'miune', 'mln', 'model', 'models', 'moderately', 'modern', 'modest', 'monday', 'monetary', 'money', 'mont', 'montagu', 'montana', 'month', 'monthly', 'months', 'more', 'moresby', 'morgan', 'morne', 'morning', 'morobe', 'most', 'mountain', 'mounting', 'move', 'moved', 'movements', 'moves', 'mt', 'much', 'mulls', 'murchison', 'murgold', 'muskeg', 'must', 'my', 'myra', 'na', 'nagano', 'name', 'named', 'narly', 'narrow', 'narrowed', 'nation', 'national', 'nationalist', 'nations', 'nationwide', 'natural', 'nbh', 'nbha', 'near', 'nearby', 'nearing', 'nearly', 'necessary', 'need', 'needed', 'negotiations', 'neill', 'neither', 'nelson', 'nem', 'ner', 'nerco', 'net', 'netherlands', 'nev', 'nevada', 'never', 'new', 'newfoundland', 'newly', 'newmont', 'news', 'newsletter', 'next', 'ngc', 'ngx', 'nicel', 'nickel', 'night', 'nilsson', 'nine', 'nisker', 'no', 'noranda', 'norgold', 'normal', 'north', 'northeast', 'northern', 'northgate', 'northwest', 'northwestern', 'not', 'note', 'noted', 'notes', 'nothing', 'noticeable', 'noting', 'november', 'novo', 'now', 'num', 'number', 'nurukawa', 'o', 'obliged', 'obtain', 'occurred', 'ocean', 'oct', 'october', 'of', 'off', 'offer', 'offered', 'office', 'offices', 'official', 'officially', 'officials', 'offset', 'offshoot', 'often', 'oil', 'ok', 'old', 'on', 'once', 'one', 'ones', 'only', 'ontario', 'opec', 'open', 'opened', 'opening', 'opens', 'operate', 'operated', 'operates', 'operating', 'operation', 'operations', 'operator', 'opinion', 'optimistic', 'option', 'options', 'or', 'ora', 'order', 'ordered', 'orderly', 'ore', 'ores', 'organisation', 'organized', 'original', 'origins', 'osaka', 'other', 'otherwise', 'ounce', 'ounces', 'our', 'out', 'outlook', 'outpace', 'output', 'outside', 'over', 'overall', 'overburden', 'owed', 'own', 'owned', 'owner', 'owners', 'ownership', 'owns', 'oxide', 'oz', 'pachapidiana', 'pacific', 'pacificorp', 'paid', 'palladium', 'panic', 'paper', 'papua', 'par', 'parallel', 'parliament', 'part', 'participant', 'participants', 'particularly', 'partly', 'partner', 'partners', 'partnership', 'past', 'patricia', 'paul', 'paulson', 'pay', 'payback', 'payment', 'pct', 'peak', 'peaks', 'pegasus', 'pending', 'pension', 'pensioners', 'people', 'per', 'percentage', 'performance', 'performed', 'performing', 'period', 'periodic', 'periods', 'periphery', 'permits', 'personal', 'perth', 'peru', 'peseta', 'peter', 'petroleum', 'petromin', 'pgul', 'pgulf', 'phase', 'philosophy', 'physical', 'pickens', 'pillar', 'piog', 'pioneer', 'pioneered', 'pires', 'pit', 'pits', 'place', 'placed', 'placements', 'placer', 'plan', 'planned', 'plans', 'plant', 'plate', 'platinum', 'play', 'plc', 'plus', 'png', 'point', 'pointed', 'points', 'poised', 'police', 'policy', 'political', 'poona', 'pope', 'pork', 'port', 'portfolio', 'portion', 'portland', 'portuguese', 'position', 'positioned', 'positive', 'possible', 'possibly', 'post', 'posted', 'potential', 'pounds', 'ppw', 'practice', 'practise', 'pre', 'precious', 'predicted', 'predicts', 'prefeasibility', 'preliminary', 'premium', 'premiums', 'preproduction', 'presence', 'present', 'presentation', 'preserve', 'president', 'presides', 'press', 'pressure', 'pressures', 'previous', 'previously', 'price', 'priced', 'prices', 'pricing', 'principal', 'principle', 'prior', 'private', 'probable', 'probably', 'problems', 'proceed', 'proceeding', 'process', 'processed', 'processing', 'produce', 'produced', 'producer', 'producers', 'producing', 'product', 'production', 'productive', 'products', 'professional', 'profit', 'profitably', 'profits', 'program', 'progressively', 'prohibitive', 'project', 'projected', 'projection', 'promote', 'prompting', 'pronounced', 'propel', 'properties', 'property', 'proposal', 'proposed', 'proprietary', 'prosecutors', 'prospect', 'prospecting', 'prospects', 'protest', 'protesting', 'prove', 'proved', 'proven', 'provide', 'provided', 'province', 'provincial', 'pty', 'public', 'publicity', 'publish', 'purchase', 'purchased', 'purchases', 'put', 'puts', 'pyongyang', 'quality', 'quantities', 'quantity', 'quarter', 'quartz', 'quebec', 'queen', 'queensland', 'questioned', 'quick', 'quickly', 'quiet', 'quotation', 'quoted', 'r', 'raise', 'raised', 'raising', 'rallies', 'rally', 'rand', 'range', 'ranged', 'ranges', 'ranging', 'rankin', 'rapid', 'rapidly', 'rate', 'rated', 'rates', 'rather', 'ratio', 'raytheon', 're', 'reach', 'reached', 'reaching', 'reaction', 'reactions', 'reaffirmed', 'reagan', 'real', 'realistic', 'really', 'reason', 'reassert', 'recalculated', 'receipt', 'receive', 'received', 'receiving', 'recent', 'recently', 'recognition', 'recommended', 'record', 'recourse', 'recover', 'recovered', 'recoveries', 'recovery', 'red', 'reduced', 'reduction', 'refers', 'refining', 'reflate', 'refusal', 'refuse', 'refused', 'region', 'regional', 'registered', 'regulations', 'regulatory', 'rehabilitation', 'reign', 'rejection', 'related', 'relative', 'relatively', 'released', 'remained', 'remaining', 'remains', 'remarks', 'removal', 'renewed', 'renison', 'renounceable', 'repaid', 'repay', 'replaced', 'report', 'reported', 'reporters', 'reporting', 'reports', 'represent', 'representative', 'representatives', 'represented', 'represents', 'required', 'research', 'reserve', 'reserves', 'residual', 'resistance', 'resolve', 'resource', 'resources', 'respective', 'respectively', 'responds', 'responsible', 'rest', 'result', 'results', 'resumed', 'resurrect', 'retain', 'return', 'returned', 'reuter', 'reuters', 'revenues', 'reverberated', 'review', 'revised', 'rgc', 'rgfj', 'rich', 'richard', 'richest', 'richmond', 'ride', 'ridge', 'ridgeway', 'right', 'rights', 'rise', 'risen', 'rises', 'rising', 'risk', 'river', 'rivers', 'roared', 'rock', 'rocks', 'rome', 'ronald', 'ronnskar', 'rose', 'roughly', 'rouyn', 'royalty', 'rpt', 'rtn', 'run', 'rush', 'rushed', 's', 'sachs', 'safety', 'said', 'sale', 'sales', 'salomon', 'same', 'samples', 'sampling', 'samuel', 'san', 'sangsu', 'santiago', 'saskatchewan', 'satisfactory', 'saturday', 'saudi', 'saw', 'say', 'says', 'scale', 'schedule', 'scheduled', 'scheme', 'schemes', 'science', 'scientific', 'second', 'section', 'securities', 'sedren', 'see', 'seek', 'seems', 'seen', 'sees', 'seize', 'sell', 'selling', 'senior', 'sentiment', 'separate', 'september', 'series', 'set', 'sets', 'setting', 'seven', 'seventh', 'several', 'severe', 'severely', 'sex', 'shaft', 'shafts', 'shandong', 'share', 'shareholder', 'shareholders', 'shares', 'sharp', 'sharply', 'she', 'shearson', 'shift', 'shifted', 'ship', 'shoji', 'sholes', 'shore', 'short', 'should', 'shouted', 'show', 'showed', 'shown', 'shows', 'side', 'sigma', 'sign', 'signed', 'significant', 'significantly', 'silver', 'similar', 'simple', 'since', 'singapore', 'single', 'sit', 'site', 'sites', 'situation', 'six', 'sixth', 'sjg', 'skx', 'skyline', 'sleeper', 'slide', 'slightly', 'slipped', 'slow', 'slowed', 'slowing', 'small', 'smaller', 'smashing', 'smelted', 'smelter', 'smith', 'so', 'soar', 'sold', 'solid', 'some', 'someone', 'somewhere', 'son', 'soon', 'sophisticated', 'sound', 'sources', 'south', 'southeast', 'southeastern', 'southwest', 'sovereign', 'soviet', 'spanish', 'special', 'specific', 'speculation', 'speculative', 'speculators', 'spencer', 'spend', 'spending', 'spent', 'sphinx', 'spike', 'spnxf', 'spokane', 'spokesman', 'sponsored', 'spot', 'spread', 'square', 'ssmc', 'st', 'stabbed', 'stabilisation', 'stabilising', 'stage', 'staged', 'staging', 'stake', 'stakes', 'standard', 'star', 'starrex', 'start', 'started', 'starting', 'starts', 'state', 'stated', 'statement', 'states', 'statutory', 'steadily', 'stearns', 'steelworkers', 'steve', 'stg', 'stibnite', 'still', 'stimulate', 'stimulating', 'stock', 'stocks', 'stood', 'stoppage', 'strategically', 'strike', 'strikes', 'striking', 'stripping', 'strohmeyer', 'strong', 'strongly', 'struck', 'structure', 'studies', 'study', 'subject', 'submission', 'subscribe', 'subsequent', 'subsidiary', 'substantial', 'substantially', 'success', 'successful', 'such', 'suface', 'suffered', 'suffering', 'suffocated', 'suisse', 'sulfide', 'sulphide', 'summer', 'sunbeam', 'sunday', 'supplies', 'supply', 'support', 'supported', 'surface', 'surfrace', 'surplus', 'surrounding', 'survey', 'suspected', 'suspend', 'sweden', 'swedish', 'swindling', 'swiss', 'switching', 'switzerland', 'symbolic', 'syngold', 'system', 't', 'tael', 'tailings', 'take', 'taken', 'takeover', 'talking', 'talks', 'tamborapa', 'target', 'targets', 'tasmania', 'tax', 'taxes', 'teberebie', 'technical', 'technigen', 'techniques', 'technology', 'tedi', 'tedious', 'teles', 'television', 'telfer', 'temporary', 'tender', 'tenth', 'term', 'terminated', 'terms', 'territories', 'territory', 'test', 'tested', 'tests', 'than', 'that', 'the', 'their', 'them', 'themselves', 'then', 'there', 'these', 'they', 'thhe', 'thick', 'thickness', 'thin', 'think', 'third', 'thirty', 'this', 'those', 'though', 'thought', 'thousands', 'threat', 'three', 'threshold', 'through', 'throughout', 'throughput', 'thursday', 'time', 'timely', 'times', 'timmins', 'titles', 'tle', 'to', 'today', 'together', 'tokyo', 'told', 'tomaque', 'tomorrow', 'ton', 'tonnage', 'tonne', 'tonnes', 'tons', 'too', 'tools', 'top', 'toronto', 'total', 'totaled', 'totaling', 'totalled', 'town', 'township', 'toxic', 'toyota', 'trace', 'traced', 'trackless', 'trade', 'traded', 'traders', 'trades', 'trading', 'traditional', 'trans', 'transaction', 'transactions', 'transfer', 'transkei', 'treasury', 'treatable', 'treatment', 'treaty', 'tried', 'troy', 'true', 'trust', 'trying', 'tse', 'tuesday', 'tug', 'tumbled', 'tunnel', 'tunnels', 'turning', 'turnover', 'tvx', 'two', 'tyranex', 'tyranite', 'u', 'udf', 'unable', 'uncertainty', 'und', 'undeground', 'under', 'underground', 'underline', 'underlying', 'undermine', 'underscore', 'understand', 'undertake', 'undertook', 'underwriting', 'underwritten', 'undiluted', 'union', 'unit', 'united', 'unlikely', 'unlimited', 'unmatched', 'unsafe', 'unsecured', 'unstable', 'unsubordinated', 'untapped', 'until', 'unzan', 'up', 'upham', 'uranium', 'us', 'use', 'used', 'uses', 'using', 'usmx', 'usx', 'utah', 'v', 'vaal', 'val', 'valley', 'value', 'valued', 'values', 'vancouver', 'variant', 'varying', 'vehicle', 'vein', 'veins', 'venture', 'vereins', 'versus', 'vertical', 'very', 'vice', 'viceroy', 'vien', 'view', 'virtually', 'visited', 'volatile', 'volatility', 'volatily', 'volcker', 'volume', 'voted', 'vs', 'w', 'waiting', 'wales', 'wall', 'wane', 'want', 'wanted', 'war', 'warm', 'warrant', 'warranted', 'warrants', 'was', 'wash', 'water', 'waver', 'way', 'we', 'weak', 'weaker', 'weakness', 'wednesday', 'wednesdays', 'week', 'weekend', 'weeks', 'weight', 'weighted', 'welcome', 'well', 'wenatchee', 'went', 'were', 'west', 'westbank', 'westdeutsche', 'western', 'westmin', 'what', 'whatever', 'when', 'where', 'which', 'while', 'white', 'who', 'wholly', 'wide', 'width', 'will', 'william', 'winnemucca', 'witbank', 'with', 'within', 'without', 'witte', 'wmc', 'wmng', 'work', 'worker', 'workers', 'working', 'works', 'world', 'worldwide', 'worried', 'worries', 'worrying', 'worth', 'would', 'wouldn', 'x', 'yard', 'yards', 'year', 'yearly', 'years', 'yen', 'yesterday', 'yet', 'yield', 'yielded', 'yields', 'york', 'yorkton', 'you', 'yukon', 'zero', 'zinc', 'zone', 'zones', 'zurich']\n",
      "2830\n"
     ]
    },
    {
     "name": "stdout",
     "output_type": "stream",
     "text": [
      "Running Truncated SVD over 2830 words...\n",
      "Done.\n"
     ]
    },
    {
     "ename": "TypeError",
     "evalue": "loop of ufunc does not support argument 0 of type NoneType which has no callable conjugate method",
     "output_type": "error",
     "traceback": [
      "\u001b[1;31m---------------------------------------------------------------------------\u001b[0m",
      "\u001b[1;31mAttributeError\u001b[0m                            Traceback (most recent call last)",
      "\u001b[1;31mAttributeError\u001b[0m: 'NoneType' object has no attribute 'conjugate'",
      "\nThe above exception was the direct cause of the following exception:\n",
      "\u001b[1;31mTypeError\u001b[0m                                 Traceback (most recent call last)",
      "Cell \u001b[1;32mIn[14], line 9\u001b[0m\n\u001b[0;32m      6\u001b[0m M_reduced_co_occurrence \u001b[38;5;241m=\u001b[39m reduce_to_k_dim(M_co_occurrence, k\u001b[38;5;241m=\u001b[39m\u001b[38;5;241m2\u001b[39m)\n\u001b[0;32m      8\u001b[0m \u001b[38;5;66;03m# Rescale (normalize) the rows to make them each of unit-length\u001b[39;00m\n\u001b[1;32m----> 9\u001b[0m M_lengths \u001b[38;5;241m=\u001b[39m np\u001b[38;5;241m.\u001b[39mlinalg\u001b[38;5;241m.\u001b[39mnorm(M_reduced_co_occurrence, axis\u001b[38;5;241m=\u001b[39m\u001b[38;5;241m1\u001b[39m)\n\u001b[0;32m     10\u001b[0m M_normalized \u001b[38;5;241m=\u001b[39m M_reduced_co_occurrence \u001b[38;5;241m/\u001b[39m M_lengths[:, np\u001b[38;5;241m.\u001b[39mnewaxis] \u001b[38;5;66;03m# broadcasting\u001b[39;00m\n\u001b[0;32m     12\u001b[0m words \u001b[38;5;241m=\u001b[39m [\u001b[38;5;124m'\u001b[39m\u001b[38;5;124mvalue\u001b[39m\u001b[38;5;124m'\u001b[39m, \u001b[38;5;124m'\u001b[39m\u001b[38;5;124mgold\u001b[39m\u001b[38;5;124m'\u001b[39m, \u001b[38;5;124m'\u001b[39m\u001b[38;5;124mplatinum\u001b[39m\u001b[38;5;124m'\u001b[39m, \u001b[38;5;124m'\u001b[39m\u001b[38;5;124mreserves\u001b[39m\u001b[38;5;124m'\u001b[39m, \u001b[38;5;124m'\u001b[39m\u001b[38;5;124msilver\u001b[39m\u001b[38;5;124m'\u001b[39m, \u001b[38;5;124m'\u001b[39m\u001b[38;5;124mmetals\u001b[39m\u001b[38;5;124m'\u001b[39m, \u001b[38;5;124m'\u001b[39m\u001b[38;5;124mcopper\u001b[39m\u001b[38;5;124m'\u001b[39m, \u001b[38;5;124m'\u001b[39m\u001b[38;5;124mbelgium\u001b[39m\u001b[38;5;124m'\u001b[39m, \u001b[38;5;124m'\u001b[39m\u001b[38;5;124maustralia\u001b[39m\u001b[38;5;124m'\u001b[39m, \u001b[38;5;124m'\u001b[39m\u001b[38;5;124mchina\u001b[39m\u001b[38;5;124m'\u001b[39m, \u001b[38;5;124m'\u001b[39m\u001b[38;5;124mgrammes\u001b[39m\u001b[38;5;124m'\u001b[39m, \u001b[38;5;124m\"\u001b[39m\u001b[38;5;124mmine\u001b[39m\u001b[38;5;124m\"\u001b[39m]\n",
      "File \u001b[1;32m~\\anaconda3\\envs\\cs224n\\Lib\\site-packages\\numpy\\linalg\\linalg.py:2582\u001b[0m, in \u001b[0;36mnorm\u001b[1;34m(x, ord, axis, keepdims)\u001b[0m\n\u001b[0;32m   2579\u001b[0m     \u001b[38;5;28;01mreturn\u001b[39;00m add\u001b[38;5;241m.\u001b[39mreduce(\u001b[38;5;28mabs\u001b[39m(x), axis\u001b[38;5;241m=\u001b[39maxis, keepdims\u001b[38;5;241m=\u001b[39mkeepdims)\n\u001b[0;32m   2580\u001b[0m \u001b[38;5;28;01melif\u001b[39;00m \u001b[38;5;28mord\u001b[39m \u001b[38;5;129;01mis\u001b[39;00m \u001b[38;5;28;01mNone\u001b[39;00m \u001b[38;5;129;01mor\u001b[39;00m \u001b[38;5;28mord\u001b[39m \u001b[38;5;241m==\u001b[39m \u001b[38;5;241m2\u001b[39m:\n\u001b[0;32m   2581\u001b[0m     \u001b[38;5;66;03m# special case for speedup\u001b[39;00m\n\u001b[1;32m-> 2582\u001b[0m     s \u001b[38;5;241m=\u001b[39m (x\u001b[38;5;241m.\u001b[39mconj() \u001b[38;5;241m*\u001b[39m x)\u001b[38;5;241m.\u001b[39mreal\n\u001b[0;32m   2583\u001b[0m     \u001b[38;5;28;01mreturn\u001b[39;00m sqrt(add\u001b[38;5;241m.\u001b[39mreduce(s, axis\u001b[38;5;241m=\u001b[39maxis, keepdims\u001b[38;5;241m=\u001b[39mkeepdims))\n\u001b[0;32m   2584\u001b[0m \u001b[38;5;66;03m# None of the str-type keywords for ord ('fro', 'nuc')\u001b[39;00m\n\u001b[0;32m   2585\u001b[0m \u001b[38;5;66;03m# are valid for vectors\u001b[39;00m\n",
      "\u001b[1;31mTypeError\u001b[0m: loop of ufunc does not support argument 0 of type NoneType which has no callable conjugate method"
     ]
    }
   ],
   "source": [
    "# -----------------------------\n",
    "# Run This Cell to Produce Your Plot\n",
    "# ------------------------------\n",
    "reuters_corpus = read_corpus()\n",
    "M_co_occurrence, word2ind_co_occurrence = compute_co_occurrence_matrix(reuters_corpus)\n",
    "M_reduced_co_occurrence = reduce_to_k_dim(M_co_occurrence, k=2)\n",
    "\n",
    "# Rescale (normalize) the rows to make them each of unit-length\n",
    "M_lengths = np.linalg.norm(M_reduced_co_occurrence, axis=1)\n",
    "M_normalized = M_reduced_co_occurrence / M_lengths[:, np.newaxis] # broadcasting\n",
    "\n",
    "words = ['value', 'gold', 'platinum', 'reserves', 'silver', 'metals', 'copper', 'belgium', 'australia', 'china', 'grammes', \"mine\"]\n",
    "\n",
    "plot_embeddings(M_normalized, word2ind_co_occurrence, words)"
   ]
  },
  {
   "cell_type": "markdown",
   "metadata": {
    "id": "RtOd40JTSSuE"
   },
   "source": [
    "**Verify that your figure matches \"question_1.5.png\" in the assignment zip. If not, use that figure to answer the next two questions.**"
   ]
  },
  {
   "cell_type": "markdown",
   "metadata": {
    "id": "ciXWGMvRSSuE"
   },
   "source": [
    "a. Find at least two groups of words that cluster together in 2-dimensional embedding space. Give an explanation for each cluster you observe."
   ]
  },
  {
   "cell_type": "markdown",
   "metadata": {
    "id": "fLU7o3HESSuF"
   },
   "source": [
    "### SOLUTION BEGIN\n",
    "\n",
    "### SOLUTION END\n"
   ]
  },
  {
   "cell_type": "markdown",
   "metadata": {
    "id": "3H-tyA9RSSuF"
   },
   "source": [
    "b. What doesn't cluster together that you might think should have? Describe at least two examples."
   ]
  },
  {
   "cell_type": "markdown",
   "metadata": {
    "id": "3NG2j9J4SSuG"
   },
   "source": [
    "### SOLUTION BEGIN\n",
    "\n",
    "### SOLUTION END"
   ]
  },
  {
   "cell_type": "markdown",
   "metadata": {
    "id": "_h0OzAaRSSuI"
   },
   "source": [
    "## Part 2: Prediction-Based Word Vectors (15 points)\n",
    "\n",
    "As discussed in class, more recently prediction-based word vectors have demonstrated better performance, such as word2vec and GloVe (which also utilizes the benefit of counts). Here, we shall explore the embeddings produced by GloVe. Please revisit the class notes and lecture slides for more details on the word2vec and GloVe algorithms. If you're feeling adventurous, challenge yourself and try reading [GloVe's original paper](https://nlp.stanford.edu/pubs/glove.pdf).\n",
    "\n",
    "Then run the following cells to load the GloVe vectors into memory. **Note**: If this is your first time to run these cells, i.e. download the embedding model, it will take a couple minutes to run. If you've run these cells before, rerunning them will load the model without redownloading it, which will take about 1 to 2 minutes."
   ]
  },
  {
   "cell_type": "code",
   "execution_count": 15,
   "metadata": {
    "id": "l3kwvdksSSuI"
   },
   "outputs": [],
   "source": [
    "def load_embedding_model():\n",
    "    \"\"\" Load GloVe Vectors\n",
    "        Return:\n",
    "            wv_from_bin: All 400000 embeddings, each lengh 200\n",
    "    \"\"\"\n",
    "    import gensim.downloader as api\n",
    "    wv_from_bin = api.load(\"glove-wiki-gigaword-200\")\n",
    "    print(\"Loaded vocab size %i\" % len(list(wv_from_bin.index_to_key)))\n",
    "    return wv_from_bin"
   ]
  },
  {
   "cell_type": "code",
   "execution_count": 16,
   "metadata": {
    "id": "JCvVlSLZSSuJ",
    "scrolled": true
   },
   "outputs": [
    {
     "name": "stdout",
     "output_type": "stream",
     "text": [
      "Loaded vocab size 400000\n"
     ]
    }
   ],
   "source": [
    "# -----------------------------------\n",
    "# Run Cell to Load Word Vectors\n",
    "# Note: This will take a couple minutes\n",
    "# -----------------------------------\n",
    "wv_from_bin = load_embedding_model()"
   ]
  },
  {
   "cell_type": "markdown",
   "metadata": {
    "id": "egIeG1RTSSuK"
   },
   "source": [
    "#### Note: If you are receiving a \"reset by peer\" error, rerun the cell to restart the download. If you run into an \"attribute\" error, you may need to update to the most recent version of gensim and numpy. You can upgrade them inline by uncommenting and running the below cell:"
   ]
  },
  {
   "cell_type": "code",
   "execution_count": null,
   "metadata": {
    "id": "ZlF5fxSXcq95"
   },
   "outputs": [],
   "source": [
    "#!pip install gensim --upgrade\n",
    "#!pip install numpy --upgrade"
   ]
  },
  {
   "cell_type": "markdown",
   "metadata": {
    "id": "rH9gWJWpSSuL"
   },
   "source": [
    "### Reducing dimensionality of Word Embeddings\n",
    "Let's directly compare the GloVe embeddings to those of the co-occurrence matrix. In order to avoid running out of memory, we will work with a sample of 10000 GloVe vectors instead.\n",
    "Run the following cells to:\n",
    "\n",
    "1. Put 10000 Glove vectors into a matrix M\n",
    "2. Run `reduce_to_k_dim` (your Truncated SVD function) to reduce the vectors from 200-dimensional to 2-dimensional."
   ]
  },
  {
   "cell_type": "code",
   "execution_count": null,
   "metadata": {
    "id": "0PROUu_-SSuL"
   },
   "outputs": [],
   "source": [
    "def get_matrix_of_vectors(wv_from_bin, required_words):\n",
    "    \"\"\" Put the GloVe vectors into a matrix M.\n",
    "        Param:\n",
    "            wv_from_bin: KeyedVectors object; the 400000 GloVe vectors loaded from file\n",
    "        Return:\n",
    "            M: numpy matrix shape (num words, 200) containing the vectors\n",
    "            word2ind: dictionary mapping each word to its row number in M\n",
    "    \"\"\"\n",
    "    import random\n",
    "    words = list(wv_from_bin.index_to_key)\n",
    "    print(\"Shuffling words ...\")\n",
    "    random.seed(225)\n",
    "    random.shuffle(words)\n",
    "    words = words[:10000]\n",
    "    print(\"Putting %i words into word2ind and matrix M...\" % len(words))\n",
    "    word2ind = {}\n",
    "    M = []\n",
    "    curInd = 0\n",
    "    for w in words:\n",
    "        try:\n",
    "            M.append(wv_from_bin.get_vector(w))\n",
    "            word2ind[w] = curInd\n",
    "            curInd += 1\n",
    "        except KeyError:\n",
    "            continue\n",
    "    for w in required_words:\n",
    "        if w in words:\n",
    "            continue\n",
    "        try:\n",
    "            M.append(wv_from_bin.get_vector(w))\n",
    "            word2ind[w] = curInd\n",
    "            curInd += 1\n",
    "        except KeyError:\n",
    "            continue\n",
    "    M = np.stack(M)\n",
    "    print(\"Done.\")\n",
    "    return M, word2ind"
   ]
  },
  {
   "cell_type": "code",
   "execution_count": null,
   "metadata": {
    "id": "cpgM0M-hSSuM"
   },
   "outputs": [],
   "source": [
    "# -----------------------------------------------------------------\n",
    "# Run Cell to Reduce 200-Dimensional Word Embeddings to k Dimensions\n",
    "# Note: This should be quick to run\n",
    "# -----------------------------------------------------------------\n",
    "M, word2ind = get_matrix_of_vectors(wv_from_bin, words)\n",
    "M_reduced = reduce_to_k_dim(M, k=2)\n",
    "\n",
    "# Rescale (normalize) the rows to make them each of unit-length\n",
    "M_lengths = np.linalg.norm(M_reduced, axis=1)\n",
    "M_reduced_normalized = M_reduced / M_lengths[:, np.newaxis] # broadcasting"
   ]
  },
  {
   "cell_type": "markdown",
   "metadata": {
    "id": "8_46FYMJSSuN"
   },
   "source": [
    "**Note: If you are receiving out of memory issues on your local machine, try closing other applications to free more memory on your device. You may want to try restarting your machine so that you can free up extra memory. Then immediately run the jupyter notebook and see if you can load the word vectors properly. If you still have problems with loading the embeddings onto your local machine after this, please go to office hours or contact course staff.**"
   ]
  },
  {
   "cell_type": "markdown",
   "metadata": {
    "id": "zAFrU8ahSSuO"
   },
   "source": [
    "### Question 2.1: GloVe Plot Analysis [written] (3 points)\n",
    "\n",
    "Run the cell below to plot the 2D GloVe embeddings for `['value', 'gold', 'platinum', 'reserves', 'silver', 'metals', 'copper', 'belgium', 'australia', 'china', 'grammes', \"mine\"]`."
   ]
  },
  {
   "cell_type": "code",
   "execution_count": null,
   "metadata": {
    "id": "9kHRkjz6SSuO",
    "scrolled": true
   },
   "outputs": [],
   "source": [
    "words = ['value', 'gold', 'platinum', 'reserves', 'silver', 'metals', 'copper', 'belgium', 'australia', 'china', 'grammes', \"mine\"]\n",
    "\n",
    "plot_embeddings(M_reduced_normalized, word2ind, words)"
   ]
  },
  {
   "cell_type": "markdown",
   "metadata": {
    "id": "eOnrMZkzSSuP"
   },
   "source": [
    "a. What is one way the plot is different from the one generated earlier from the co-occurrence matrix? What is one way it's similar?"
   ]
  },
  {
   "cell_type": "markdown",
   "metadata": {
    "id": "5KC4PTQoSSuQ"
   },
   "source": [
    "### SOLUTION BEGIN\n",
    "\n",
    "### SOLUTION END"
   ]
  },
  {
   "cell_type": "markdown",
   "metadata": {
    "id": "bNDY5puZSSuQ"
   },
   "source": [
    "b. What is a possible cause for the difference?"
   ]
  },
  {
   "cell_type": "markdown",
   "metadata": {
    "id": "o-cWAvi8SSuR"
   },
   "source": [
    "### SOLUTION BEGIN\n",
    "\n",
    "### SOLUTION END"
   ]
  },
  {
   "cell_type": "markdown",
   "metadata": {
    "id": "nA8oIbjjSSuS"
   },
   "source": [
    "### Cosine Similarity\n",
    "Now that we have word vectors, we need a way to quantify the similarity between individual words, according to these vectors. One such metric is cosine-similarity. We will be using this to find words that are \"close\" and \"far\" from one another.\n",
    "\n",
    "We can think of n-dimensional vectors as points in n-dimensional space. If we take this perspective [L1](http://mathworld.wolfram.com/L1-Norm.html) and [L2](http://mathworld.wolfram.com/L2-Norm.html) Distances help quantify the amount of space \"we must travel\" to get between these two points. Another approach is to examine the angle between two vectors. From trigonometry we know that:\n",
    "\n",
    "<img src=\"./imgs/inner_product.png\" width=20% style=\"float: center;\"></img>\n",
    "\n",
    "Instead of computing the actual angle, we can leave the similarity in terms of $similarity = cos(\\Theta)$. Formally the [Cosine Similarity](https://en.wikipedia.org/wiki/Cosine_similarity) $s$ between two vectors $p$ and $q$ is defined as:\n",
    "\n",
    "$$s = \\frac{p \\cdot q}{||p|| ||q||}, \\textrm{ where } s \\in [-1, 1] $$ "
   ]
  },
  {
   "cell_type": "markdown",
   "metadata": {
    "id": "sFfCOLUsSSuS"
   },
   "source": [
    "### Question 2.2: Words with Multiple Meanings (1.5 points) [code + written] \n",
    "Polysemes and homonyms are words that have more than one meaning (see this [wiki page](https://en.wikipedia.org/wiki/Polysemy) to learn more about the difference between polysemes and homonyms ). Find a word with *at least two different meanings* such that the top-10 most similar words (according to cosine similarity) contain related words from *both* meanings. For example, \"leaves\" has both \"go_away\" and \"a_structure_of_a_plant\" meaning in the top 10, and \"scoop\" has both \"handed_waffle_cone\" and \"lowdown\". You will probably need to try several polysemous or homonymic words before you find one. \n",
    "\n",
    "Please state the word you discover and the multiple meanings that occur in the top 10. Why do you think many of the polysemous or homonymic words you tried didn't work (i.e. the top-10 most similar words only contain **one** of the meanings of the words)?\n",
    "\n",
    "**Note**: You should use the `wv_from_bin.most_similar(word)` function to get the top 10 similar words. This function ranks all other words in the vocabulary with respect to their cosine similarity to the given word. For further assistance, please check the __[GenSim documentation](https://radimrehurek.com/gensim/models/keyedvectors.html#gensim.models.keyedvectors.FastTextKeyedVectors.most_similar)__."
   ]
  },
  {
   "cell_type": "code",
   "execution_count": null,
   "metadata": {
    "id": "ZAr09U-xSSuT"
   },
   "outputs": [],
   "source": [
    "### SOLUTION BEGIN\n",
    "\n",
    "### SOLUTION END"
   ]
  },
  {
   "cell_type": "markdown",
   "metadata": {
    "id": "VdQ018tjSSuT"
   },
   "source": [
    "### SOLUTION BEGIN\n",
    "\n",
    "### SOLUTION END"
   ]
  },
  {
   "cell_type": "markdown",
   "metadata": {
    "id": "VfeW-eK9SSuU"
   },
   "source": [
    "### Question 2.3: Synonyms & Antonyms (2 points) [code + written] \n",
    "\n",
    "When considering Cosine Similarity, it's often more convenient to think of Cosine Distance, which is simply 1 - Cosine Similarity.\n",
    "\n",
    "Find three words $(w_1,w_2,w_3)$ where $w_1$ and $w_2$ are synonyms and $w_1$ and $w_3$ are antonyms, but Cosine Distance $(w_1,w_3) <$ Cosine Distance $(w_1,w_2)$. \n",
    "\n",
    "As an example, $w_1$=\"happy\" is closer to $w_3$=\"sad\" than to $w_2$=\"cheerful\". Please find a different example that satisfies the above. Once you have found your example, please give a possible explanation for why this counter-intuitive result may have happened.\n",
    "\n",
    "You should use the the `wv_from_bin.distance(w1, w2)` function here in order to compute the cosine distance between two words. Please see the __[GenSim documentation](https://radimrehurek.com/gensim/models/keyedvectors.html#gensim.models.keyedvectors.FastTextKeyedVectors.distance)__ for further assistance."
   ]
  },
  {
   "cell_type": "code",
   "execution_count": null,
   "metadata": {
    "id": "bwlpPjpHSSuV"
   },
   "outputs": [],
   "source": [
    "### SOLUTION BEGIN\n",
    "\n",
    "w1 = \n",
    "w2 =\n",
    "w3 = \n",
    "w1_w2_dist = wv_from_bin.distance(w1, w2)\n",
    "w1_w3_dist = wv_from_bin.distance(w1, w3)\n",
    "\n",
    "print(\"Synonyms {}, {} have cosine distance: {}\".format(w1, w2, w1_w2_dist))\n",
    "print(\"Antonyms {}, {} have cosine distance: {}\".format(w1, w3, w1_w3_dist))\n",
    "\n",
    "### SOLUTION END"
   ]
  },
  {
   "cell_type": "markdown",
   "metadata": {
    "id": "PeIHjTFMSSuV"
   },
   "source": [
    "### SOLUTION BEGIN\n",
    "\n",
    "### SOLUTION END"
   ]
  },
  {
   "cell_type": "markdown",
   "metadata": {
    "id": "ZxIDq26zSSuW"
   },
   "source": [
    "### Question 2.4: Analogies with Word Vectors [written] (1.5 points)\n",
    "Word vectors have been shown to *sometimes* exhibit the ability to solve analogies. \n",
    "\n",
    "As an example, for the analogy \"man : grandfather :: woman : x\" (read: man is to grandfather as woman is to x), what is x?\n",
    "\n",
    "In the cell below, we show you how to use word vectors to find x using the `most_similar` function from the __[GenSim documentation](https://radimrehurek.com/gensim/models/keyedvectors.html#gensim.models.keyedvectors.KeyedVectors.most_similar)__. The function finds words that are most similar to the words in the `positive` list and most dissimilar from the words in the `negative` list (while omitting the input words, which are often the most similar; see [this paper](https://www.aclweb.org/anthology/N18-2039.pdf)). The answer to the analogy will have the highest cosine similarity (largest returned numerical value)."
   ]
  },
  {
   "cell_type": "code",
   "execution_count": null,
   "metadata": {
    "id": "u0pC7H4VSSuY"
   },
   "outputs": [],
   "source": [
    "# Run this cell to answer the analogy -- man : grandfather :: woman : x\n",
    "pprint.pprint(wv_from_bin.most_similar(positive=['woman', 'grandfather'], negative=['man']))"
   ]
  },
  {
   "cell_type": "markdown",
   "metadata": {
    "id": "XVv8I9WwSSuZ"
   },
   "source": [
    "Let $m$, $g$, $w$, and $x$ denote the word vectors for `man`, `grandfather`, `woman`, and the answer, respectively. Using **only** vectors $m$, $g$, $w$, and the vector arithmetic operators $+$ and $-$ in your answer, to what expression are we maximizing $x$'s cosine similarity?\n",
    "\n",
    "Hint: Recall that word vectors are simply multi-dimensional vectors that represent a word. It might help to draw out a 2D example using arbitrary locations of each vector. Where would `man` and `woman` lie in the coordinate plane relative to `grandfather` and the answer?"
   ]
  },
  {
   "cell_type": "markdown",
   "metadata": {
    "id": "KlUKBqtHSSuZ"
   },
   "source": [
    "### SOLUTION BEGIN\n",
    "\n",
    "### SOLUTION END"
   ]
  },
  {
   "cell_type": "markdown",
   "metadata": {
    "id": "2rRgMca9SSua"
   },
   "source": [
    "### Question 2.5: Finding Analogies [code + written]  (1.5 points)\n",
    "a. For the previous example, it's clear that \"grandmother\" completes the analogy. But give an intuitive explanation as to why the `most_similar` function gives us words like \"granddaughter\", \"daughter\", or \"mother?"
   ]
  },
  {
   "cell_type": "markdown",
   "metadata": {
    "id": "WgYQXazQSSua"
   },
   "source": [
    "### SOLUTION BEGIN\n",
    "\n",
    "### SOLUTION END"
   ]
  },
  {
   "cell_type": "markdown",
   "metadata": {
    "id": "p9aAUXEISSub"
   },
   "source": [
    "b. Find an example of analogy that holds according to these vectors (i.e. the intended word is ranked top). In your solution please state the full analogy in the form x:y :: a:b. If you believe the analogy is complicated, explain why the analogy holds in one or two sentences.\n",
    "\n",
    "**Note**: You may have to try many analogies to find one that works!"
   ]
  },
  {
   "cell_type": "code",
   "execution_count": null,
   "metadata": {
    "id": "dhzQJMYYVSjf"
   },
   "outputs": [],
   "source": [
    "### SOLUTION BEGIN\n",
    "\n",
    "x, y, a, b = <FILL YOUR RESPONSE HERE>\n",
    "assert wv_from_bin.most_similar(positive=[a, y], negative=[x])[0][0] == b\n",
    "\n",
    "### SOLUTION END"
   ]
  },
  {
   "cell_type": "markdown",
   "metadata": {
    "id": "K3QlPqAwSSub"
   },
   "source": [
    "### SOLUTION BEGIN\n",
    "\n",
    "### SOLUTION END"
   ]
  },
  {
   "cell_type": "markdown",
   "metadata": {
    "id": "SwgcEywwSSuc"
   },
   "source": [
    "### Question 2.6: Incorrect Analogy [code + written] (1.5 points)\n",
    "a. Below, we expect to see the intended analogy \"hand : glove :: foot : **sock**\", but we see an unexpected result instead. Give a potential reason as to why this particular analogy turned out the way it did?"
   ]
  },
  {
   "cell_type": "code",
   "execution_count": null,
   "metadata": {
    "id": "m-ykWoJoSSuc"
   },
   "outputs": [],
   "source": [
    "pprint.pprint(wv_from_bin.most_similar(positive=['foot', 'glove'], negative=['hand']))"
   ]
  },
  {
   "cell_type": "markdown",
   "metadata": {
    "id": "zn4ruS8MSSud"
   },
   "source": [
    "### SOLUTION BEGIN\n",
    "\n",
    "### SOLUTION END"
   ]
  },
  {
   "cell_type": "markdown",
   "metadata": {
    "id": "D1gHyZt0SSud"
   },
   "source": [
    "b. Find another example of analogy that does *not* hold according to these vectors. In your solution, state the intended analogy in the form x:y :: a:b, and state the **incorrect** value of b according to the word vectors (in the previous example, this would be **'45,000-square'**)."
   ]
  },
  {
   "cell_type": "code",
   "execution_count": null,
   "metadata": {
    "id": "D_rlci42XQTw"
   },
   "outputs": [],
   "source": [
    "### SOLUTION BEGIN\n",
    "\n",
    "x, y, a, b = <FILL YOUR RESPONSE HERE>\n",
    "pprint.pprint(wv_from_bin.most_similar(positive=[a, y], negative=[x]))\n",
    "\n",
    "### SOLUTION END"
   ]
  },
  {
   "cell_type": "markdown",
   "metadata": {
    "id": "c4x0EHjeSSue"
   },
   "source": [
    "### SOLUTION BEGIN\n",
    "\n",
    "### SOLUTION END"
   ]
  },
  {
   "cell_type": "markdown",
   "metadata": {
    "id": "yvlycXN-SSuf"
   },
   "source": [
    "### Question 2.7: Guided Analysis of Bias in Word Vectors [written] (1 point)\n",
    "\n",
    "It's important to be cognizant of the biases (gender, race, sexual orientation etc.) implicit in our word embeddings. Bias can be dangerous because it can reinforce stereotypes through applications that employ these models.\n",
    "\n",
    "Run the cell below, to examine (a) which terms are most similar to \"woman\" and \"profession\" and most dissimilar to \"man\", and (b) which terms are most similar to \"man\" and \"profession\" and most dissimilar to \"woman\". Point out the difference between the list of female-associated words and the list of male-associated words, and explain how it is reflecting gender bias."
   ]
  },
  {
   "cell_type": "code",
   "execution_count": null,
   "metadata": {
    "id": "XggWA4MhSSuf"
   },
   "outputs": [],
   "source": [
    "# Run this cell\n",
    "# Here `positive` indicates the list of words to be similar to and `negative` indicates the list of words to be\n",
    "# most dissimilar from.\n",
    "\n",
    "pprint.pprint(wv_from_bin.most_similar(positive=['man', 'profession'], negative=['woman']))\n",
    "print()\n",
    "pprint.pprint(wv_from_bin.most_similar(positive=['woman', 'profession'], negative=['man']))"
   ]
  },
  {
   "cell_type": "markdown",
   "metadata": {
    "id": "x4g6KbsYSSuh"
   },
   "source": [
    "### SOLUTION BEGIN\n",
    "\n",
    "### SOLUTION END"
   ]
  },
  {
   "cell_type": "markdown",
   "metadata": {
    "id": "LxJmnS6lSSui"
   },
   "source": [
    "### Question 2.8: Independent Analysis of Bias in Word Vectors [code + written]  (1 point)\n",
    "\n",
    "Use the `most_similar` function to find another pair of analogies that demonstrates some bias is exhibited by the vectors. Please briefly explain the example of bias that you discover."
   ]
  },
  {
   "cell_type": "code",
   "execution_count": null,
   "metadata": {
    "id": "PZoDheIfSSui"
   },
   "outputs": [],
   "source": [
    "### SOLUTION BEGIN\n",
    "\n",
    "A = \n",
    "B = \n",
    "word = \n",
    "pprint.pprint(wv_from_bin.most_similar(positive=[A, word], negative=[B]))\n",
    "print()\n",
    "pprint.pprint(wv_from_bin.most_similar(positive=[B, word], negative=[A]))\n",
    "\n",
    "### SOLUTION END"
   ]
  },
  {
   "cell_type": "markdown",
   "metadata": {
    "id": "TGOlmtJoSSuj"
   },
   "source": [
    "### SOLUTION BEGIN\n",
    "\n",
    "### SOLUTION END"
   ]
  },
  {
   "cell_type": "markdown",
   "metadata": {
    "id": "eK2XVWzmSSuk"
   },
   "source": [
    "### Question 2.9: Thinking About Bias [written] (2 points)\n",
    "\n",
    "a. Give one explanation of how bias gets into the word vectors. Briefly describe a real-world example that demonstrates this source of bias."
   ]
  },
  {
   "cell_type": "markdown",
   "metadata": {
    "id": "19pM85fCSSuk"
   },
   "source": [
    "### SOLUTION BEGIN\n",
    "\n",
    "### SOLUTION END"
   ]
  },
  {
   "cell_type": "markdown",
   "metadata": {
    "id": "ILYqJZ7ASSul"
   },
   "source": [
    "b. What is one method you can use to mitigate bias exhibited by word vectors?  Briefly describe a real-world example that demonstrates this method."
   ]
  },
  {
   "cell_type": "markdown",
   "metadata": {
    "id": "dnJaAB7mSSul"
   },
   "source": [
    "\n",
    "### SOLUTION BEGIN\n",
    "\n",
    "### SOLUTION END"
   ]
  },
  {
   "cell_type": "markdown",
   "metadata": {
    "id": "dzh3eEmZSSum"
   },
   "source": [
    "# <font color=\"blue\"> Submission Instructions</font>\n",
    "\n",
    "1. Click the Save button at the top of the Jupyter Notebook.\n",
    "2. Select Cell -> All Output -> Clear. This will clear all the outputs from all cells (but will keep the content of all cells). \n",
    "2. Select Cell -> Run All. This will run all the cells in order, and will take several minutes.\n",
    "3. Once you've rerun everything, select File -> Download as -> PDF via LaTeX (If you have trouble using \"PDF via LaTex\", you can also save the webpage as pdf. <font color='blue'> Make sure all your solutions especially the coding parts are displayed in the pdf</font>, it's okay if the provided codes get cut off because lines are not wrapped in code cells).\n",
    "4. Look at the PDF file and make sure all your solutions are there, displayed correctly. The PDF is the only thing your graders will see!\n",
    "5. Submit your PDF on Gradescope."
   ]
  }
 ],
 "metadata": {
  "anaconda-cloud": {},
  "colab": {
   "provenance": []
  },
  "kernelspec": {
   "display_name": "cs224n",
   "language": "python",
   "name": "cs224n"
  },
  "language_info": {
   "codemirror_mode": {
    "name": "ipython",
    "version": 3
   },
   "file_extension": ".py",
   "mimetype": "text/x-python",
   "name": "python",
   "nbconvert_exporter": "python",
   "pygments_lexer": "ipython3",
   "version": "3.11.7"
  }
 },
 "nbformat": 4,
 "nbformat_minor": 1
}
